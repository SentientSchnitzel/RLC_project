{
 "cells": [
  {
   "cell_type": "code",
   "execution_count": 11,
   "metadata": {},
   "outputs": [
    {
     "data": {
      "text/html": [
       "<pre>✔️ 0 ns (2021-05-03T10:43:45/2021-05-03T10:43:45)</pre>"
      ],
      "text/plain": [
       "<IPython.core.display.HTML object>"
      ]
     },
     "metadata": {},
     "output_type": "display_data"
    }
   ],
   "source": [
    "%load_ext autotime"
   ]
  },
  {
   "cell_type": "markdown",
   "metadata": {},
   "source": [
    "# An incremental evaluation function and a testsuite for computer chess\n",
    "\n",
    "This article is a continuation of the post\n",
    "https://medium.com/@andreasstckl/writing-a-chess-program-in-one-day-30daff4610ec\n",
    "\n",
    "It shows how to write a simple computer chess program with only a few lines of code in Python, and contains all main parts of a chess engine. In this article and future postings I will show how to enhance the program. \n",
    "\n",
    "The code can be found at:\n",
    "https://github.com/astoeckl/mediumchess/\n",
    "\n",
    "The simple program in the previous post has a very simple evaluation function, but evaluation and therefore the whole search process is very slow because each node in the search is evaluated from scratch. In the search process the positions only differ by one move, and so it is a good idea to initialize the evaluation at the begin of the search and then incrementally update the evalutation after each move. "
   ]
  },
  {
   "cell_type": "code",
   "execution_count": 1,
   "metadata": {},
   "outputs": [],
   "source": [
    "import chess\n",
    "import chess.svg\n",
    "from IPython.display import SVG"
   ]
  },
  {
   "cell_type": "markdown",
   "metadata": {},
   "source": [
    "## Incremental evaluation\n",
    "\n",
    "I define a function to evaluate the actual position and store the value in a global variable. This funcion is called once at the beginning of a search."
   ]
  },
  {
   "cell_type": "code",
   "execution_count": 2,
   "metadata": {},
   "outputs": [],
   "source": [
    "def init_evaluate_board():\n",
    "    global boardvalue\n",
    "    \n",
    "    wp = len(board.pieces(chess.PAWN, chess.WHITE))\n",
    "    bp = len(board.pieces(chess.PAWN, chess.BLACK))\n",
    "    wn = len(board.pieces(chess.KNIGHT, chess.WHITE))\n",
    "    bn = len(board.pieces(chess.KNIGHT, chess.BLACK))\n",
    "    wb = len(board.pieces(chess.BISHOP, chess.WHITE))\n",
    "    bb = len(board.pieces(chess.BISHOP, chess.BLACK))\n",
    "    wr = len(board.pieces(chess.ROOK, chess.WHITE))\n",
    "    br = len(board.pieces(chess.ROOK, chess.BLACK))\n",
    "    wq = len(board.pieces(chess.QUEEN, chess.WHITE))\n",
    "    bq = len(board.pieces(chess.QUEEN, chess.BLACK))\n",
    "    \n",
    "    material = 100*(wp-bp)+320*(wn-bn)+330*(wb-bb)+500*(wr-br)+900*(wq-bq)\n",
    "    \n",
    "    pawnsq = sum([pawntable[i] for i in board.pieces(chess.PAWN, chess.WHITE)])\n",
    "    pawnsq= pawnsq + sum([-pawntable[chess.square_mirror(i)] \n",
    "                                    for i in board.pieces(chess.PAWN, chess.BLACK)])\n",
    "    knightsq = sum([knightstable[i] for i in board.pieces(chess.KNIGHT, chess.WHITE)])\n",
    "    knightsq = knightsq + sum([-knightstable[chess.square_mirror(i)] \n",
    "                                    for i in board.pieces(chess.KNIGHT, chess.BLACK)])\n",
    "    bishopsq= sum([bishopstable[i] for i in board.pieces(chess.BISHOP, chess.WHITE)])\n",
    "    bishopsq= bishopsq + sum([-bishopstable[chess.square_mirror(i)] \n",
    "                                    for i in board.pieces(chess.BISHOP, chess.BLACK)])\n",
    "    rooksq = sum([rookstable[i] for i in board.pieces(chess.ROOK, chess.WHITE)]) \n",
    "    rooksq = rooksq + sum([-rookstable[chess.square_mirror(i)] \n",
    "                                    for i in board.pieces(chess.ROOK, chess.BLACK)])\n",
    "    queensq = sum([queenstable[i] for i in board.pieces(chess.QUEEN, chess.WHITE)]) \n",
    "    queensq = queensq + sum([-queenstable[chess.square_mirror(i)] \n",
    "                                    for i in board.pieces(chess.QUEEN, chess.BLACK)])\n",
    "    kingsq = sum([kingstable[i] for i in board.pieces(chess.KING, chess.WHITE)]) \n",
    "    kingsq = kingsq + sum([-kingstable[chess.square_mirror(i)] \n",
    "                                    for i in board.pieces(chess.KING, chess.BLACK)])\n",
    "    \n",
    "    boardvalue = material + pawnsq + knightsq + bishopsq + rooksq + queensq + kingsq\n",
    "    \n",
    "    return boardvalue"
   ]
  },
  {
   "cell_type": "markdown",
   "metadata": {},
   "source": [
    "The evaluation function now simply checks for mate or draw and reads the board value from the global variable."
   ]
  },
  {
   "cell_type": "code",
   "execution_count": 3,
   "metadata": {},
   "outputs": [],
   "source": [
    "def evaluate_board():\n",
    "    \n",
    "    if board.is_checkmate():\n",
    "        if board.turn:\n",
    "            return -9999\n",
    "        else:\n",
    "            return 9999\n",
    "    if board.is_stalemate():\n",
    "        return 0\n",
    "    if board.is_insufficient_material():\n",
    "        return 0\n",
    "    \n",
    "    eval = boardvalue\n",
    "    if board.turn:\n",
    "        return eval\n",
    "    else:\n",
    "        return -eval"
   ]
  },
  {
   "cell_type": "markdown",
   "metadata": {},
   "source": [
    "The definition of the piece square tables remains unchanged."
   ]
  },
  {
   "cell_type": "code",
   "execution_count": 4,
   "metadata": {},
   "outputs": [],
   "source": [
    "pawntable = [\n",
    " 0,  0,  0,  0,  0,  0,  0,  0,\n",
    " 5, 10, 10,-20,-20, 10, 10,  5,\n",
    " 5, -5,-10,  0,  0,-10, -5,  5,\n",
    " 0,  0,  0, 20, 20,  0,  0,  0,\n",
    " 5,  5, 10, 25, 25, 10,  5,  5,\n",
    "10, 10, 20, 30, 30, 20, 10, 10,\n",
    "50, 50, 50, 50, 50, 50, 50, 50,\n",
    " 0,  0,  0,  0,  0,  0,  0,  0]\n",
    "\n",
    "knightstable = [\n",
    "-50,-40,-30,-30,-30,-30,-40,-50,\n",
    "-40,-20,  0,  5,  5,  0,-20,-40,\n",
    "-30,  5, 10, 15, 15, 10,  5,-30,\n",
    "-30,  0, 15, 20, 20, 15,  0,-30,\n",
    "-30,  5, 15, 20, 20, 15,  5,-30,\n",
    "-30,  0, 10, 15, 15, 10,  0,-30,\n",
    "-40,-20,  0,  0,  0,  0,-20,-40,\n",
    "-50,-40,-30,-30,-30,-30,-40,-50]\n",
    "\n",
    "bishopstable = [\n",
    "-20,-10,-10,-10,-10,-10,-10,-20,\n",
    "-10,  5,  0,  0,  0,  0,  5,-10,\n",
    "-10, 10, 10, 10, 10, 10, 10,-10,\n",
    "-10,  0, 10, 10, 10, 10,  0,-10,\n",
    "-10,  5,  5, 10, 10,  5,  5,-10,\n",
    "-10,  0,  5, 10, 10,  5,  0,-10,\n",
    "-10,  0,  0,  0,  0,  0,  0,-10,\n",
    "-20,-10,-10,-10,-10,-10,-10,-20]\n",
    "\n",
    "rookstable = [\n",
    "  0,  0,  0,  5,  5,  0,  0,  0,\n",
    " -5,  0,  0,  0,  0,  0,  0, -5,\n",
    " -5,  0,  0,  0,  0,  0,  0, -5,\n",
    " -5,  0,  0,  0,  0,  0,  0, -5,\n",
    " -5,  0,  0,  0,  0,  0,  0, -5,\n",
    " -5,  0,  0,  0,  0,  0,  0, -5,\n",
    "  5, 10, 10, 10, 10, 10, 10,  5,\n",
    " 0,  0,  0,  0,  0,  0,  0,  0]\n",
    "\n",
    "queenstable = [\n",
    "-20,-10,-10, -5, -5,-10,-10,-20,\n",
    "-10,  0,  0,  0,  0,  0,  0,-10,\n",
    "-10,  5,  5,  5,  5,  5,  0,-10,\n",
    "  0,  0,  5,  5,  5,  5,  0, -5,\n",
    " -5,  0,  5,  5,  5,  5,  0, -5,\n",
    "-10,  0,  5,  5,  5,  5,  0,-10,\n",
    "-10,  0,  0,  0,  0,  0,  0,-10,\n",
    "-20,-10,-10, -5, -5,-10,-10,-20]\n",
    "\n",
    "kingstable = [\n",
    " 20, 30, 10,  0,  0, 10, 30, 20,\n",
    " 20, 20,  0,  0,  0,  0, 20, 20,\n",
    "-10,-20,-20,-20,-20,-20,-20,-10,\n",
    "-20,-30,-30,-40,-40,-30,-30,-20,\n",
    "-30,-40,-40,-50,-50,-40,-40,-30,\n",
    "-30,-40,-40,-50,-50,-40,-40,-30,\n",
    "-30,-40,-40,-50,-50,-40,-40,-30,\n",
    "-30,-40,-40,-50,-50,-40,-40,-30]"
   ]
  },
  {
   "cell_type": "markdown",
   "metadata": {},
   "source": [
    "Now I have to define a function to update the global boardvalue after each move and after a move has takten back during search."
   ]
  },
  {
   "cell_type": "code",
   "execution_count": 5,
   "metadata": {},
   "outputs": [],
   "source": [
    "piecetypes = [chess.PAWN, chess.KNIGHT, chess.BISHOP, chess.ROOK, chess.QUEEN, chess.KING ]\n",
    "tables = [pawntable, knightstable, bishopstable, rookstable, queenstable, kingstable]\n",
    "piecevalues = [100,320,330,500,900]\n",
    "\n",
    "def update_eval(mov, side):\n",
    "    global boardvalue\n",
    "    \n",
    "    #update piecequares\n",
    "    movingpiece = board.piece_type_at(mov.from_square)\n",
    "    if side:\n",
    "        boardvalue = boardvalue - tables[movingpiece - 1][mov.from_square]\n",
    "        #update castling\n",
    "        if (mov.from_square == chess.E1) and (mov.to_square == chess.G1):\n",
    "            boardvalue = boardvalue - rookstable[chess.H1]\n",
    "            boardvalue = boardvalue + rookstable[chess.F1]\n",
    "        elif (mov.from_square == chess.E1) and (mov.to_square == chess.C1):\n",
    "            boardvalue = boardvalue - rookstable[chess.A1]\n",
    "            boardvalue = boardvalue + rookstable[chess.D1]\n",
    "    else:\n",
    "        boardvalue = boardvalue + tables[movingpiece - 1][mov.from_square]\n",
    "        #update castling\n",
    "        if (mov.from_square == chess.E8) and (mov.to_square == chess.G8):\n",
    "            boardvalue = boardvalue + rookstable[chess.H8]\n",
    "            boardvalue = boardvalue - rookstable[chess.F8]\n",
    "        elif (mov.from_square == chess.E8) and (mov.to_square == chess.C8):\n",
    "            boardvalue = boardvalue + rookstable[chess.A8]\n",
    "            boardvalue = boardvalue - rookstable[chess.D8]\n",
    "        \n",
    "    if side:\n",
    "        boardvalue = boardvalue + tables[movingpiece - 1][mov.to_square]\n",
    "    else:\n",
    "        boardvalue = boardvalue - tables[movingpiece - 1][mov.to_square]\n",
    "        \n",
    "     \n",
    "    #update material\n",
    "    if mov.drop != None:\n",
    "        if side:\n",
    "            boardvalue = boardvalue + piecevalues[mov.drop-1]\n",
    "        else:\n",
    "            boardvalue = boardvalue - piecevalues[mov.drop-1]\n",
    "            \n",
    "    #update promotion\n",
    "    if mov.promotion != None:\n",
    "        if side:\n",
    "            boardvalue = boardvalue + piecevalues[mov.promotion-1] - piecevalues[movingpiece-1]\n",
    "            boardvalue = boardvalue - tables[movingpiece - 1][mov.to_square] \\\n",
    "                + tables[mov.promotion - 1][mov.to_square]\n",
    "        else:\n",
    "            boardvalue = boardvalue - piecevalues[mov.promotion-1] + piecevalues[movingpiece-1]\n",
    "            boardvalue = boardvalue + tables[movingpiece - 1][mov.to_square] \\\n",
    "                - tables[mov.promotion - 1][mov.to_square]\n",
    "            \n",
    "            \n",
    "    return mov\n",
    "\n",
    "def make_move(mov):\n",
    "    update_eval(mov, board.turn)\n",
    "    board.push(mov)\n",
    "    \n",
    "    return mov\n",
    "\n",
    "def unmake_move():\n",
    "    mov = board.pop()\n",
    "    update_eval(mov, not board.turn)\n",
    "    \n",
    "    return mov"
   ]
  },
  {
   "cell_type": "markdown",
   "metadata": {},
   "source": [
    "The functions make_move(mov) and unmake_move() are used insted of using board.push(mov) board.pop() directly. The search function are modified with this functions."
   ]
  },
  {
   "cell_type": "code",
   "execution_count": 6,
   "metadata": {},
   "outputs": [],
   "source": [
    "def quiesce( alpha, beta ):\n",
    "    stand_pat = evaluate_board()\n",
    "    if( stand_pat >= beta ):\n",
    "        return beta\n",
    "    if( alpha < stand_pat ):\n",
    "        alpha = stand_pat\n",
    "\n",
    "    for move in board.legal_moves:\n",
    "        if board.is_capture(move):\n",
    "            make_move(move)        \n",
    "            score = -quiesce( -beta, -alpha )\n",
    "            unmake_move()\n",
    "\n",
    "            if( score >= beta ):\n",
    "                return beta\n",
    "            if( score > alpha ):\n",
    "                alpha = score  \n",
    "    return alpha\n",
    "\n",
    "def alphabeta( alpha, beta, depthleft ):\n",
    "    bestscore = -9999\n",
    "    if( depthleft == 0 ):\n",
    "        return quiesce( alpha, beta )\n",
    "    for move in board.legal_moves:\n",
    "        make_move(move)   \n",
    "        score = -alphabeta( -beta, -alpha, depthleft - 1 )\n",
    "        unmake_move()\n",
    "        if( score >= beta ):\n",
    "            return score\n",
    "        if( score > bestscore ):\n",
    "            bestscore = score\n",
    "        if( score > alpha ):\n",
    "            alpha = score   \n",
    "    return bestscore\n",
    "\n",
    "import chess.polyglot\n",
    "\n",
    "def selectmove(depth):\n",
    "    try:\n",
    "        move = chess.polyglot.MemoryMappedReader(\"bookfish.bin\").weighted_choice(board).move()\n",
    "        movehistory.append(move)\n",
    "        return move\n",
    "    except:\n",
    "        bestMove = chess.Move.null()\n",
    "        bestValue = -99999\n",
    "        alpha = -100000\n",
    "        beta = 100000\n",
    "        for move in board.legal_moves:\n",
    "            make_move(move)\n",
    "            boardValue = -alphabeta(-beta, -alpha, depth-1)\n",
    "            if boardValue > bestValue:\n",
    "                bestValue = boardValue;\n",
    "                bestMove = move\n",
    "            if( boardValue > alpha ):\n",
    "                alpha = boardValue\n",
    "            unmake_move()\n",
    "        movehistory.append(bestMove)\n",
    "        return bestMove"
   ]
  },
  {
   "cell_type": "markdown",
   "metadata": {},
   "source": [
    "Testing the search on a middle game postion with the new evaluation shows faster search process with about 2 Min for a search with depth 5. With the old version the same search took more the an half hour."
   ]
  },
  {
   "cell_type": "code",
   "execution_count": 7,
   "metadata": {},
   "outputs": [
    {
     "data": {
      "image/svg+xml": [
       "<svg xmlns=\"http://www.w3.org/2000/svg\" xmlns:xlink=\"http://www.w3.org/1999/xlink\" version=\"1.1\" viewBox=\"0 0 400 400\" width=\"400\" height=\"400\"><defs><g id=\"white-pawn\" class=\"white pawn\"><path d=\"M22 9c-2.21 0-4 1.79-4 4 0 .89.29 1.71.78 2.38-1.95 1.12-3.28 3.21-3.28 5.62 0 2.03.94 3.84 2.41 5.03-3 1.06-7.41 5.55-7.41 13.47h23c0-7.92-4.41-12.41-7.41-13.47 1.47-1.19 2.41-3 2.41-5.03 0-2.41-1.33-4.5-3.28-5.62.49-.67.78-1.49.78-2.38 0-2.21-1.79-4-4-4z\" fill=\"#fff\" stroke=\"#000\" stroke-width=\"1.5\" stroke-linecap=\"round\"/></g><g id=\"white-bishop\" class=\"white bishop\" fill=\"none\" fill-rule=\"evenodd\" stroke=\"#000\" stroke-width=\"1.5\" stroke-linecap=\"round\" stroke-linejoin=\"round\"><g fill=\"#fff\" stroke-linecap=\"butt\"><path d=\"M9 36c3.39-.97 10.11.43 13.5-2 3.39 2.43 10.11 1.03 13.5 2 0 0 1.65.54 3 2-.68.97-1.65.99-3 .5-3.39-.97-10.11.46-13.5-1-3.39 1.46-10.11.03-13.5 1-1.354.49-2.323.47-3-.5 1.354-1.94 3-2 3-2zM15 32c2.5 2.5 12.5 2.5 15 0 .5-1.5 0-2 0-2 0-2.5-2.5-4-2.5-4 5.5-1.5 6-11.5-5-15.5-11 4-10.5 14-5 15.5 0 0-2.5 1.5-2.5 4 0 0-.5.5 0 2zM25 8a2.5 2.5 0 1 1-5 0 2.5 2.5 0 1 1 5 0z\"/></g><path d=\"M17.5 26h10M15 30h15m-7.5-14.5v5M20 18h5\" stroke-linejoin=\"miter\"/></g><g id=\"white-rook\" class=\"white rook\" fill=\"#fff\" fill-rule=\"evenodd\" stroke=\"#000\" stroke-width=\"1.5\" stroke-linecap=\"round\" stroke-linejoin=\"round\"><path d=\"M9 39h27v-3H9v3zM12 36v-4h21v4H12zM11 14V9h4v2h5V9h5v2h5V9h4v5\" stroke-linecap=\"butt\"/><path d=\"M34 14l-3 3H14l-3-3\"/><path d=\"M31 17v12.5H14V17\" stroke-linecap=\"butt\" stroke-linejoin=\"miter\"/><path d=\"M31 29.5l1.5 2.5h-20l1.5-2.5\"/><path d=\"M11 14h23\" fill=\"none\" stroke-linejoin=\"miter\"/></g><g id=\"white-queen\" class=\"white queen\" fill=\"#fff\" fill-rule=\"evenodd\" stroke=\"#000\" stroke-width=\"1.5\" stroke-linecap=\"round\" stroke-linejoin=\"round\"><path d=\"M8 12a2 2 0 1 1-4 0 2 2 0 1 1 4 0zM24.5 7.5a2 2 0 1 1-4 0 2 2 0 1 1 4 0zM41 12a2 2 0 1 1-4 0 2 2 0 1 1 4 0zM16 8.5a2 2 0 1 1-4 0 2 2 0 1 1 4 0zM33 9a2 2 0 1 1-4 0 2 2 0 1 1 4 0z\"/><path d=\"M9 26c8.5-1.5 21-1.5 27 0l2-12-7 11V11l-5.5 13.5-3-15-3 15-5.5-14V25L7 14l2 12zM9 26c0 2 1.5 2 2.5 4 1 1.5 1 1 .5 3.5-1.5 1-1.5 2.5-1.5 2.5-1.5 1.5.5 2.5.5 2.5 6.5 1 16.5 1 23 0 0 0 1.5-1 0-2.5 0 0 .5-1.5-1-2.5-.5-2.5-.5-2 .5-3.5 1-2 2.5-2 2.5-4-8.5-1.5-18.5-1.5-27 0z\" stroke-linecap=\"butt\"/><path d=\"M11.5 30c3.5-1 18.5-1 22 0M12 33.5c6-1 15-1 21 0\" fill=\"none\"/></g><g id=\"white-king\" class=\"white king\" fill=\"none\" fill-rule=\"evenodd\" stroke=\"#000\" stroke-width=\"1.5\" stroke-linecap=\"round\" stroke-linejoin=\"round\"><path d=\"M22.5 11.63V6M20 8h5\" stroke-linejoin=\"miter\"/><path d=\"M22.5 25s4.5-7.5 3-10.5c0 0-1-2.5-3-2.5s-3 2.5-3 2.5c-1.5 3 3 10.5 3 10.5\" fill=\"#fff\" stroke-linecap=\"butt\" stroke-linejoin=\"miter\"/><path d=\"M11.5 37c5.5 3.5 15.5 3.5 21 0v-7s9-4.5 6-10.5c-4-6.5-13.5-3.5-16 4V27v-3.5c-3.5-7.5-13-10.5-16-4-3 6 5 10 5 10V37z\" fill=\"#fff\"/><path d=\"M11.5 30c5.5-3 15.5-3 21 0m-21 3.5c5.5-3 15.5-3 21 0m-21 3.5c5.5-3 15.5-3 21 0\"/></g><g id=\"black-pawn\" class=\"black pawn\"><path d=\"M22 9c-2.21 0-4 1.79-4 4 0 .89.29 1.71.78 2.38-1.95 1.12-3.28 3.21-3.28 5.62 0 2.03.94 3.84 2.41 5.03-3 1.06-7.41 5.55-7.41 13.47h23c0-7.92-4.41-12.41-7.41-13.47 1.47-1.19 2.41-3 2.41-5.03 0-2.41-1.33-4.5-3.28-5.62.49-.67.78-1.49.78-2.38 0-2.21-1.79-4-4-4z\" stroke=\"#000\" stroke-width=\"1.5\" stroke-linecap=\"round\"/></g><g id=\"black-bishop\" class=\"black bishop\" fill=\"none\" fill-rule=\"evenodd\" stroke=\"#000\" stroke-width=\"1.5\" stroke-linecap=\"round\" stroke-linejoin=\"round\"><path d=\"M9 36c3.39-.97 10.11.43 13.5-2 3.39 2.43 10.11 1.03 13.5 2 0 0 1.65.54 3 2-.68.97-1.65.99-3 .5-3.39-.97-10.11.46-13.5-1-3.39 1.46-10.11.03-13.5 1-1.354.49-2.323.47-3-.5 1.354-1.94 3-2 3-2zm6-4c2.5 2.5 12.5 2.5 15 0 .5-1.5 0-2 0-2 0-2.5-2.5-4-2.5-4 5.5-1.5 6-11.5-5-15.5-11 4-10.5 14-5 15.5 0 0-2.5 1.5-2.5 4 0 0-.5.5 0 2zM25 8a2.5 2.5 0 1 1-5 0 2.5 2.5 0 1 1 5 0z\" fill=\"#000\" stroke-linecap=\"butt\"/><path d=\"M17.5 26h10M15 30h15m-7.5-14.5v5M20 18h5\" stroke=\"#fff\" stroke-linejoin=\"miter\"/></g><g id=\"black-rook\" class=\"black rook\" fill=\"#000\" fill-rule=\"evenodd\" stroke=\"#000\" stroke-width=\"1.5\" stroke-linecap=\"round\" stroke-linejoin=\"round\"><path d=\"M9 39h27v-3H9v3zM12.5 32l1.5-2.5h17l1.5 2.5h-20zM12 36v-4h21v4H12z\" stroke-linecap=\"butt\"/><path d=\"M14 29.5v-13h17v13H14z\" stroke-linecap=\"butt\" stroke-linejoin=\"miter\"/><path d=\"M14 16.5L11 14h23l-3 2.5H14zM11 14V9h4v2h5V9h5v2h5V9h4v5H11z\" stroke-linecap=\"butt\"/><path d=\"M12 35.5h21M13 31.5h19M14 29.5h17M14 16.5h17M11 14h23\" fill=\"none\" stroke=\"#fff\" stroke-width=\"1\" stroke-linejoin=\"miter\"/></g><g id=\"black-queen\" class=\"black queen\" fill=\"#000\" fill-rule=\"evenodd\" stroke=\"#000\" stroke-width=\"1.5\" stroke-linecap=\"round\" stroke-linejoin=\"round\"><g fill=\"#000\" stroke=\"none\"><circle cx=\"6\" cy=\"12\" r=\"2.75\"/><circle cx=\"14\" cy=\"9\" r=\"2.75\"/><circle cx=\"22.5\" cy=\"8\" r=\"2.75\"/><circle cx=\"31\" cy=\"9\" r=\"2.75\"/><circle cx=\"39\" cy=\"12\" r=\"2.75\"/></g><path d=\"M9 26c8.5-1.5 21-1.5 27 0l2.5-12.5L31 25l-.3-14.1-5.2 13.6-3-14.5-3 14.5-5.2-13.6L14 25 6.5 13.5 9 26zM9 26c0 2 1.5 2 2.5 4 1 1.5 1 1 .5 3.5-1.5 1-1.5 2.5-1.5 2.5-1.5 1.5.5 2.5.5 2.5 6.5 1 16.5 1 23 0 0 0 1.5-1 0-2.5 0 0 .5-1.5-1-2.5-.5-2.5-.5-2 .5-3.5 1-2 2.5-2 2.5-4-8.5-1.5-18.5-1.5-27 0z\" stroke-linecap=\"butt\"/><path d=\"M11 38.5a35 35 1 0 0 23 0\" fill=\"none\" stroke-linecap=\"butt\"/><path d=\"M11 29a35 35 1 0 1 23 0M12.5 31.5h20M11.5 34.5a35 35 1 0 0 22 0M10.5 37.5a35 35 1 0 0 24 0\" fill=\"none\" stroke=\"#fff\"/></g><g id=\"black-king\" class=\"black king\" fill=\"none\" fill-rule=\"evenodd\" stroke=\"#000\" stroke-width=\"1.5\" stroke-linecap=\"round\" stroke-linejoin=\"round\"><path d=\"M22.5 11.63V6\" stroke-linejoin=\"miter\"/><path d=\"M22.5 25s4.5-7.5 3-10.5c0 0-1-2.5-3-2.5s-3 2.5-3 2.5c-1.5 3 3 10.5 3 10.5\" fill=\"#000\" stroke-linecap=\"butt\" stroke-linejoin=\"miter\"/><path d=\"M11.5 37c5.5 3.5 15.5 3.5 21 0v-7s9-4.5 6-10.5c-4-6.5-13.5-3.5-16 4V27v-3.5c-3.5-7.5-13-10.5-16-4-3 6 5 10 5 10V37z\" fill=\"#000\"/><path d=\"M20 8h5\" stroke-linejoin=\"miter\"/><path d=\"M32 29.5s8.5-4 6.03-9.65C34.15 14 25 18 22.5 24.5l.01 2.1-.01-2.1C20 18 9.906 14 6.997 19.85c-2.497 5.65 4.853 9 4.853 9M11.5 30c5.5-3 15.5-3 21 0m-21 3.5c5.5-3 15.5-3 21 0m-21 3.5c5.5-3 15.5-3 21 0\" stroke=\"#fff\"/></g></defs><rect x=\"20\" y=\"335\" width=\"45\" height=\"45\" class=\"square dark a1\" stroke=\"none\" fill=\"#d18b47\"/><rect x=\"65\" y=\"335\" width=\"45\" height=\"45\" class=\"square light b1\" stroke=\"none\" fill=\"#ffce9e\"/><rect x=\"110\" y=\"335\" width=\"45\" height=\"45\" class=\"square dark c1\" stroke=\"none\" fill=\"#d18b47\"/><use xlink:href=\"#white-king\" transform=\"translate(110, 335)\"/><rect x=\"155\" y=\"335\" width=\"45\" height=\"45\" class=\"square light lastmove d1\" stroke=\"none\" fill=\"#cdd16a\"/><use xlink:href=\"#black-queen\" transform=\"translate(155, 335)\"/><rect x=\"200\" y=\"335\" width=\"45\" height=\"45\" class=\"square dark e1\" stroke=\"none\" fill=\"#d18b47\"/><rect x=\"245\" y=\"335\" width=\"45\" height=\"45\" class=\"square light f1\" stroke=\"none\" fill=\"#ffce9e\"/><rect x=\"290\" y=\"335\" width=\"45\" height=\"45\" class=\"square dark g1\" stroke=\"none\" fill=\"#d18b47\"/><rect x=\"335\" y=\"335\" width=\"45\" height=\"45\" class=\"square light h1\" stroke=\"none\" fill=\"#ffce9e\"/><rect x=\"20\" y=\"290\" width=\"45\" height=\"45\" class=\"square light a2\" stroke=\"none\" fill=\"#ffce9e\"/><use xlink:href=\"#white-pawn\" transform=\"translate(20, 290)\"/><rect x=\"65\" y=\"290\" width=\"45\" height=\"45\" class=\"square dark b2\" stroke=\"none\" fill=\"#d18b47\"/><use xlink:href=\"#white-pawn\" transform=\"translate(65, 290)\"/><rect x=\"110\" y=\"290\" width=\"45\" height=\"45\" class=\"square light c2\" stroke=\"none\" fill=\"#ffce9e\"/><use xlink:href=\"#white-pawn\" transform=\"translate(110, 290)\"/><rect x=\"155\" y=\"290\" width=\"45\" height=\"45\" class=\"square dark d2\" stroke=\"none\" fill=\"#d18b47\"/><rect x=\"200\" y=\"290\" width=\"45\" height=\"45\" class=\"square light e2\" stroke=\"none\" fill=\"#ffce9e\"/><rect x=\"245\" y=\"290\" width=\"45\" height=\"45\" class=\"square dark f2\" stroke=\"none\" fill=\"#d18b47\"/><use xlink:href=\"#white-bishop\" transform=\"translate(245, 290)\"/><rect x=\"290\" y=\"290\" width=\"45\" height=\"45\" class=\"square light g2\" stroke=\"none\" fill=\"#ffce9e\"/><rect x=\"335\" y=\"290\" width=\"45\" height=\"45\" class=\"square dark h2\" stroke=\"none\" fill=\"#d18b47\"/><rect x=\"20\" y=\"245\" width=\"45\" height=\"45\" class=\"square dark a3\" stroke=\"none\" fill=\"#d18b47\"/><rect x=\"65\" y=\"245\" width=\"45\" height=\"45\" class=\"square light b3\" stroke=\"none\" fill=\"#ffce9e\"/><rect x=\"110\" y=\"245\" width=\"45\" height=\"45\" class=\"square dark c3\" stroke=\"none\" fill=\"#d18b47\"/><rect x=\"155\" y=\"245\" width=\"45\" height=\"45\" class=\"square light d3\" stroke=\"none\" fill=\"#ffce9e\"/><rect x=\"200\" y=\"245\" width=\"45\" height=\"45\" class=\"square dark e3\" stroke=\"none\" fill=\"#d18b47\"/><use xlink:href=\"#white-queen\" transform=\"translate(200, 245)\"/><rect x=\"245\" y=\"245\" width=\"45\" height=\"45\" class=\"square light f3\" stroke=\"none\" fill=\"#ffce9e\"/><rect x=\"290\" y=\"245\" width=\"45\" height=\"45\" class=\"square dark g3\" stroke=\"none\" fill=\"#d18b47\"/><rect x=\"335\" y=\"245\" width=\"45\" height=\"45\" class=\"square light h3\" stroke=\"none\" fill=\"#ffce9e\"/><rect x=\"20\" y=\"200\" width=\"45\" height=\"45\" class=\"square light a4\" stroke=\"none\" fill=\"#ffce9e\"/><rect x=\"65\" y=\"200\" width=\"45\" height=\"45\" class=\"square dark b4\" stroke=\"none\" fill=\"#d18b47\"/><rect x=\"110\" y=\"200\" width=\"45\" height=\"45\" class=\"square light c4\" stroke=\"none\" fill=\"#ffce9e\"/><use xlink:href=\"#white-bishop\" transform=\"translate(110, 200)\"/><rect x=\"155\" y=\"200\" width=\"45\" height=\"45\" class=\"square dark d4\" stroke=\"none\" fill=\"#d18b47\"/><rect x=\"200\" y=\"200\" width=\"45\" height=\"45\" class=\"square light e4\" stroke=\"none\" fill=\"#ffce9e\"/><rect x=\"245\" y=\"200\" width=\"45\" height=\"45\" class=\"square dark f4\" stroke=\"none\" fill=\"#d18b47\"/><rect x=\"290\" y=\"200\" width=\"45\" height=\"45\" class=\"square light g4\" stroke=\"none\" fill=\"#ffce9e\"/><rect x=\"335\" y=\"200\" width=\"45\" height=\"45\" class=\"square dark h4\" stroke=\"none\" fill=\"#d18b47\"/><rect x=\"20\" y=\"155\" width=\"45\" height=\"45\" class=\"square dark a5\" stroke=\"none\" fill=\"#d18b47\"/><rect x=\"65\" y=\"155\" width=\"45\" height=\"45\" class=\"square light b5\" stroke=\"none\" fill=\"#ffce9e\"/><rect x=\"110\" y=\"155\" width=\"45\" height=\"45\" class=\"square dark c5\" stroke=\"none\" fill=\"#d18b47\"/><rect x=\"155\" y=\"155\" width=\"45\" height=\"45\" class=\"square light d5\" stroke=\"none\" fill=\"#ffce9e\"/><rect x=\"200\" y=\"155\" width=\"45\" height=\"45\" class=\"square dark e5\" stroke=\"none\" fill=\"#d18b47\"/><use xlink:href=\"#black-pawn\" transform=\"translate(200, 155)\"/><rect x=\"245\" y=\"155\" width=\"45\" height=\"45\" class=\"square light f5\" stroke=\"none\" fill=\"#ffce9e\"/><rect x=\"290\" y=\"155\" width=\"45\" height=\"45\" class=\"square dark g5\" stroke=\"none\" fill=\"#d18b47\"/><rect x=\"335\" y=\"155\" width=\"45\" height=\"45\" class=\"square light h5\" stroke=\"none\" fill=\"#ffce9e\"/><rect x=\"20\" y=\"110\" width=\"45\" height=\"45\" class=\"square light a6\" stroke=\"none\" fill=\"#ffce9e\"/><rect x=\"65\" y=\"110\" width=\"45\" height=\"45\" class=\"square dark b6\" stroke=\"none\" fill=\"#d18b47\"/><rect x=\"110\" y=\"110\" width=\"45\" height=\"45\" class=\"square light c6\" stroke=\"none\" fill=\"#ffce9e\"/><rect x=\"155\" y=\"110\" width=\"45\" height=\"45\" class=\"square dark lastmove d6\" stroke=\"none\" fill=\"#aaa23b\"/><rect x=\"200\" y=\"110\" width=\"45\" height=\"45\" class=\"square light e6\" stroke=\"none\" fill=\"#ffce9e\"/><rect x=\"245\" y=\"110\" width=\"45\" height=\"45\" class=\"square dark f6\" stroke=\"none\" fill=\"#d18b47\"/><rect x=\"290\" y=\"110\" width=\"45\" height=\"45\" class=\"square light g6\" stroke=\"none\" fill=\"#ffce9e\"/><use xlink:href=\"#black-pawn\" transform=\"translate(290, 110)\"/><rect x=\"335\" y=\"110\" width=\"45\" height=\"45\" class=\"square dark h6\" stroke=\"none\" fill=\"#d18b47\"/><use xlink:href=\"#black-pawn\" transform=\"translate(335, 110)\"/><rect x=\"20\" y=\"65\" width=\"45\" height=\"45\" class=\"square dark a7\" stroke=\"none\" fill=\"#d18b47\"/><use xlink:href=\"#black-pawn\" transform=\"translate(20, 65)\"/><rect x=\"65\" y=\"65\" width=\"45\" height=\"45\" class=\"square light b7\" stroke=\"none\" fill=\"#ffce9e\"/><use xlink:href=\"#black-pawn\" transform=\"translate(65, 65)\"/><rect x=\"110\" y=\"65\" width=\"45\" height=\"45\" class=\"square dark c7\" stroke=\"none\" fill=\"#d18b47\"/><rect x=\"155\" y=\"65\" width=\"45\" height=\"45\" class=\"square light d7\" stroke=\"none\" fill=\"#ffce9e\"/><use xlink:href=\"#black-bishop\" transform=\"translate(155, 65)\"/><rect x=\"200\" y=\"65\" width=\"45\" height=\"45\" class=\"square dark e7\" stroke=\"none\" fill=\"#d18b47\"/><rect x=\"245\" y=\"65\" width=\"45\" height=\"45\" class=\"square light f7\" stroke=\"none\" fill=\"#ffce9e\"/><use xlink:href=\"#white-rook\" transform=\"translate(245, 65)\"/><rect x=\"290\" y=\"65\" width=\"45\" height=\"45\" class=\"square dark g7\" stroke=\"none\" fill=\"#d18b47\"/><rect x=\"335\" y=\"65\" width=\"45\" height=\"45\" class=\"square light h7\" stroke=\"none\" fill=\"#ffce9e\"/><rect x=\"20\" y=\"20\" width=\"45\" height=\"45\" class=\"square light a8\" stroke=\"none\" fill=\"#ffce9e\"/><rect x=\"65\" y=\"20\" width=\"45\" height=\"45\" class=\"square dark b8\" stroke=\"none\" fill=\"#d18b47\"/><use xlink:href=\"#black-king\" transform=\"translate(65, 20)\"/><rect x=\"110\" y=\"20\" width=\"45\" height=\"45\" class=\"square light c8\" stroke=\"none\" fill=\"#ffce9e\"/><rect x=\"155\" y=\"20\" width=\"45\" height=\"45\" class=\"square dark d8\" stroke=\"none\" fill=\"#d18b47\"/><use xlink:href=\"#black-rook\" transform=\"translate(155, 20)\"/><rect x=\"200\" y=\"20\" width=\"45\" height=\"45\" class=\"square light e8\" stroke=\"none\" fill=\"#ffce9e\"/><rect x=\"245\" y=\"20\" width=\"45\" height=\"45\" class=\"square dark f8\" stroke=\"none\" fill=\"#d18b47\"/><rect x=\"290\" y=\"20\" width=\"45\" height=\"45\" class=\"square light g8\" stroke=\"none\" fill=\"#ffce9e\"/><rect x=\"335\" y=\"20\" width=\"45\" height=\"45\" class=\"square dark h8\" stroke=\"none\" fill=\"#d18b47\"/><text x=\"42\" y=\"10\" font-size=\"14\" text-anchor=\"middle\" alignment-baseline=\"middle\">a</text><text x=\"42\" y=\"390\" font-size=\"14\" text-anchor=\"middle\" alignment-baseline=\"middle\">a</text><text x=\"87\" y=\"10\" font-size=\"14\" text-anchor=\"middle\" alignment-baseline=\"middle\">b</text><text x=\"87\" y=\"390\" font-size=\"14\" text-anchor=\"middle\" alignment-baseline=\"middle\">b</text><text x=\"132\" y=\"10\" font-size=\"14\" text-anchor=\"middle\" alignment-baseline=\"middle\">c</text><text x=\"132\" y=\"390\" font-size=\"14\" text-anchor=\"middle\" alignment-baseline=\"middle\">c</text><text x=\"177\" y=\"10\" font-size=\"14\" text-anchor=\"middle\" alignment-baseline=\"middle\">d</text><text x=\"177\" y=\"390\" font-size=\"14\" text-anchor=\"middle\" alignment-baseline=\"middle\">d</text><text x=\"222\" y=\"10\" font-size=\"14\" text-anchor=\"middle\" alignment-baseline=\"middle\">e</text><text x=\"222\" y=\"390\" font-size=\"14\" text-anchor=\"middle\" alignment-baseline=\"middle\">e</text><text x=\"267\" y=\"10\" font-size=\"14\" text-anchor=\"middle\" alignment-baseline=\"middle\">f</text><text x=\"267\" y=\"390\" font-size=\"14\" text-anchor=\"middle\" alignment-baseline=\"middle\">f</text><text x=\"312\" y=\"10\" font-size=\"14\" text-anchor=\"middle\" alignment-baseline=\"middle\">g</text><text x=\"312\" y=\"390\" font-size=\"14\" text-anchor=\"middle\" alignment-baseline=\"middle\">g</text><text x=\"357\" y=\"10\" font-size=\"14\" text-anchor=\"middle\" alignment-baseline=\"middle\">h</text><text x=\"357\" y=\"390\" font-size=\"14\" text-anchor=\"middle\" alignment-baseline=\"middle\">h</text><text x=\"10\" y=\"357\" font-size=\"14\" text-anchor=\"middle\" alignment-baseline=\"middle\">1</text><text x=\"390\" y=\"357\" font-size=\"14\" text-anchor=\"middle\" alignment-baseline=\"middle\">1</text><text x=\"10\" y=\"312\" font-size=\"14\" text-anchor=\"middle\" alignment-baseline=\"middle\">2</text><text x=\"390\" y=\"312\" font-size=\"14\" text-anchor=\"middle\" alignment-baseline=\"middle\">2</text><text x=\"10\" y=\"267\" font-size=\"14\" text-anchor=\"middle\" alignment-baseline=\"middle\">3</text><text x=\"390\" y=\"267\" font-size=\"14\" text-anchor=\"middle\" alignment-baseline=\"middle\">3</text><text x=\"10\" y=\"222\" font-size=\"14\" text-anchor=\"middle\" alignment-baseline=\"middle\">4</text><text x=\"390\" y=\"222\" font-size=\"14\" text-anchor=\"middle\" alignment-baseline=\"middle\">4</text><text x=\"10\" y=\"177\" font-size=\"14\" text-anchor=\"middle\" alignment-baseline=\"middle\">5</text><text x=\"390\" y=\"177\" font-size=\"14\" text-anchor=\"middle\" alignment-baseline=\"middle\">5</text><text x=\"10\" y=\"132\" font-size=\"14\" text-anchor=\"middle\" alignment-baseline=\"middle\">6</text><text x=\"390\" y=\"132\" font-size=\"14\" text-anchor=\"middle\" alignment-baseline=\"middle\">6</text><text x=\"10\" y=\"87\" font-size=\"14\" text-anchor=\"middle\" alignment-baseline=\"middle\">7</text><text x=\"390\" y=\"87\" font-size=\"14\" text-anchor=\"middle\" alignment-baseline=\"middle\">7</text><text x=\"10\" y=\"42\" font-size=\"14\" text-anchor=\"middle\" alignment-baseline=\"middle\">8</text><text x=\"390\" y=\"42\" font-size=\"14\" text-anchor=\"middle\" alignment-baseline=\"middle\">8</text></svg>"
      ],
      "text/plain": [
       "<IPython.core.display.SVG object>"
      ]
     },
     "execution_count": 7,
     "metadata": {},
     "output_type": "execute_result"
    }
   ],
   "source": [
    "movehistory =[]\n",
    "board = chess.Board(\"1k1r4/pp1b1R2/3q2pp/4p3/2B5/4Q3/PPP2B2/2K5 b - - 0 1\")\n",
    "boardvalue = init_evaluate_board()\n",
    "\n",
    "mov = selectmove(5)\n",
    "make_move(mov)\n",
    "SVG(chess.svg.board(board=board,size=400,lastmove=mov))"
   ]
  },
  {
   "cell_type": "markdown",
   "metadata": {},
   "source": [
    "## A suite of testpostions\n",
    "\n",
    "I want to use a set of positions which is good for testing the ability of a chess engine to solve tactical positions and so is able to test the quality of the search. A collection of such problems is the Bratko-Kopec Test (https://www.chessprogramming.org/Bratko-Kopec_Test) from the 80s. This test has been a standard for nearly 20 years in computer chess and in our days it is good to test a weak engine like mine.\n",
    "\n",
    "The position I used for the speed test above is position 1 from this set.\n",
    "\n",
    "I import the 24 postions in [FEN](https://en.wikipedia.org/wiki/Forsyth%E2%80%93Edwards_Notation) notation."
   ]
  },
  {
   "cell_type": "code",
   "execution_count": 8,
   "metadata": {},
   "outputs": [],
   "source": [
    "positions = [\n",
    "\"1k1r4/pp1b1R2/3q2pp/4p3/2B5/4Q3/PPP2B2/2K5 b - - 0 1\",\n",
    "\"3r1k2/4npp1/1ppr3p/p6P/P2PPPP1/1NR5/5K2/2R5 w - - 0 1\",\n",
    "\"2q1rr1k/3bbnnp/p2p1pp1/2pPp3/PpP1P1P1/1P2BNNP/2BQ1PRK/7R b - - 0 1\",\n",
    "\"rnbqkb1r/p3pppp/1p6/2ppP3/3N4/2P5/PPP1QPPP/R1B1KB1R w KQkq - 0 1\",\n",
    "\"r1b2rk1/2q1b1pp/p2ppn2/1p6/3QP3/1BN1B3/PPP3PP/R4RK1 w - - 0 1\",\n",
    "\"2r3k1/pppR1pp1/4p3/4P1P1/5P2/1P4K1/P1P5/8 w - - 0 1\",\n",
    "\"1nk1r1r1/pp2n1pp/4p3/q2pPp1N/b1pP1P2/B1P2R2/2P1B1PP/R2Q2K1 w - - 0 1\",\n",
    "\"4b3/p3kp2/6p1/3pP2p/2pP1P2/4K1P1/P3N2P/8 w - - 0 1\",\n",
    "\"2kr1bnr/pbpq4/2n1pp2/3p3p/3P1P1B/2N2N1Q/PPP3PP/2KR1B1R w - - 0 1\",\n",
    "\"3rr1k1/pp3pp1/1qn2np1/8/3p4/PP1R1P2/2P1NQPP/R1B3K1 b - - 0 1\",\n",
    "\"2r1nrk1/p2q1ppp/bp1p4/n1pPp3/P1P1P3/2PBB1N1/4QPPP/R4RK1 w - - 0 1\",\n",
    "\"r3r1k1/ppqb1ppp/8/4p1NQ/8/2P5/PP3PPP/R3R1K1 b - - 0 1\",\n",
    "\"r2q1rk1/4bppp/p2p4/2pP4/3pP3/3Q4/PP1B1PPP/R3R1K1 w - - 0 1\",\n",
    "\"rnb2r1k/pp2p2p/2pp2p1/q2P1p2/8/1Pb2NP1/PB2PPBP/R2Q1RK1 w - - 0 1\",\n",
    "\"2r3k1/1p2q1pp/2b1pr2/p1pp4/6Q1/1P1PP1R1/P1PN2PP/5RK1 w - - 0 1\",\n",
    "\"r1bqkb1r/4npp1/p1p4p/1p1pP1B1/8/1B6/PPPN1PPP/R2Q1RK1 w kq - 0 1\",\n",
    "\"r2q1rk1/1ppnbppp/p2p1nb1/3Pp3/2P1P1P1/2N2N1P/PPB1QP2/R1B2RK1 b - - 0 1\",\n",
    "\"r1bq1rk1/pp2ppbp/2np2p1/2n5/P3PP2/N1P2N2/1PB3PP/R1B1QRK1 b - - 0 1\",\n",
    "\"3rr3/2pq2pk/p2p1pnp/8/2QBPP2/1P6/P5PP/4RRK1 b - - 0 1\",\n",
    "\"r4k2/pb2bp1r/1p1qp2p/3pNp2/3P1P2/2N3P1/PPP1Q2P/2KRR3 w - - 0 1\",\n",
    "\"3rn2k/ppb2rpp/2ppqp2/5N2/2P1P3/1P5Q/PB3PPP/3RR1K1 w - - 0 1\",\n",
    "\"2r2rk1/1bqnbpp1/1p1ppn1p/pP6/N1P1P3/P2B1N1P/1B2QPP1/R2R2K1 b - - 0 1\",\n",
    "\"r1bqk2r/pp2bppp/2p5/3pP3/P2Q1P2/2N1B3/1PP3PP/R4RK1 b kq - 0 1\",\n",
    "\"r2qnrnk/p2b2b1/1p1p2pp/2pPpp2/1PP1P3/PRNBB3/3QNPPP/5RK1 w - - 0 1\",\n",
    "]\n",
    "solutions = [\"Qd1+\",\"d5\",\"f5\",\"e6\",\"a4\",\"g6\",\"Nf6\",\"f5\",\"f5\",\"Ne5\",\"f4\",\"Bf5\",\"b4\",\n",
    "             \"Qd2 Qe1\",\"Qxg7+\",\"Ne4\",\"h5\",\"Nb3\",\"Rxe4\",\"g4\",\"Nh6\",\"Bxe4\",\"f6\",\"f4\"]"
   ]
  },
  {
   "cell_type": "markdown",
   "metadata": {},
   "source": [
    "We can compute the search for each position and compare with the solution. For example position 9."
   ]
  },
  {
   "cell_type": "code",
   "execution_count": 9,
   "metadata": {},
   "outputs": [
    {
     "name": "stdout",
     "output_type": "stream",
     "text": [
      "d5\n",
      "d5\n"
     ]
    },
    {
     "data": {
      "image/svg+xml": [
       "<svg xmlns=\"http://www.w3.org/2000/svg\" xmlns:xlink=\"http://www.w3.org/1999/xlink\" version=\"1.1\" viewBox=\"0 0 400 400\" width=\"400\" height=\"400\"><defs><g id=\"white-pawn\" class=\"white pawn\"><path d=\"M22 9c-2.21 0-4 1.79-4 4 0 .89.29 1.71.78 2.38-1.95 1.12-3.28 3.21-3.28 5.62 0 2.03.94 3.84 2.41 5.03-3 1.06-7.41 5.55-7.41 13.47h23c0-7.92-4.41-12.41-7.41-13.47 1.47-1.19 2.41-3 2.41-5.03 0-2.41-1.33-4.5-3.28-5.62.49-.67.78-1.49.78-2.38 0-2.21-1.79-4-4-4z\" fill=\"#fff\" stroke=\"#000\" stroke-width=\"1.5\" stroke-linecap=\"round\"/></g><g id=\"white-knight\" class=\"white knight\" fill=\"none\" fill-rule=\"evenodd\" stroke=\"#000\" stroke-width=\"1.5\" stroke-linecap=\"round\" stroke-linejoin=\"round\"><path d=\"M 22,10 C 32.5,11 38.5,18 38,39 L 15,39 C 15,30 25,32.5 23,18\" style=\"fill:#ffffff; stroke:#000000;\"/><path d=\"M 24,18 C 24.38,20.91 18.45,25.37 16,27 C 13,29 13.18,31.34 11,31 C 9.958,30.06 12.41,27.96 11,28 C 10,28 11.19,29.23 10,30 C 9,30 5.997,31 6,26 C 6,24 12,14 12,14 C 12,14 13.89,12.1 14,10.5 C 13.27,9.506 13.5,8.5 13.5,7.5 C 14.5,6.5 16.5,10 16.5,10 L 18.5,10 C 18.5,10 19.28,8.008 21,7 C 22,7 22,10 22,10\" style=\"fill:#ffffff; stroke:#000000;\"/><path d=\"M 9.5 25.5 A 0.5 0.5 0 1 1 8.5,25.5 A 0.5 0.5 0 1 1 9.5 25.5 z\" style=\"fill:#000000; stroke:#000000;\"/><path d=\"M 15 15.5 A 0.5 1.5 0 1 1 14,15.5 A 0.5 1.5 0 1 1 15 15.5 z\" transform=\"matrix(0.866,0.5,-0.5,0.866,9.693,-5.173)\" style=\"fill:#000000; stroke:#000000;\"/></g><g id=\"white-rook\" class=\"white rook\" fill=\"#fff\" fill-rule=\"evenodd\" stroke=\"#000\" stroke-width=\"1.5\" stroke-linecap=\"round\" stroke-linejoin=\"round\"><path d=\"M9 39h27v-3H9v3zM12 36v-4h21v4H12zM11 14V9h4v2h5V9h5v2h5V9h4v5\" stroke-linecap=\"butt\"/><path d=\"M34 14l-3 3H14l-3-3\"/><path d=\"M31 17v12.5H14V17\" stroke-linecap=\"butt\" stroke-linejoin=\"miter\"/><path d=\"M31 29.5l1.5 2.5h-20l1.5-2.5\"/><path d=\"M11 14h23\" fill=\"none\" stroke-linejoin=\"miter\"/></g><g id=\"white-king\" class=\"white king\" fill=\"none\" fill-rule=\"evenodd\" stroke=\"#000\" stroke-width=\"1.5\" stroke-linecap=\"round\" stroke-linejoin=\"round\"><path d=\"M22.5 11.63V6M20 8h5\" stroke-linejoin=\"miter\"/><path d=\"M22.5 25s4.5-7.5 3-10.5c0 0-1-2.5-3-2.5s-3 2.5-3 2.5c-1.5 3 3 10.5 3 10.5\" fill=\"#fff\" stroke-linecap=\"butt\" stroke-linejoin=\"miter\"/><path d=\"M11.5 37c5.5 3.5 15.5 3.5 21 0v-7s9-4.5 6-10.5c-4-6.5-13.5-3.5-16 4V27v-3.5c-3.5-7.5-13-10.5-16-4-3 6 5 10 5 10V37z\" fill=\"#fff\"/><path d=\"M11.5 30c5.5-3 15.5-3 21 0m-21 3.5c5.5-3 15.5-3 21 0m-21 3.5c5.5-3 15.5-3 21 0\"/></g><g id=\"black-pawn\" class=\"black pawn\"><path d=\"M22 9c-2.21 0-4 1.79-4 4 0 .89.29 1.71.78 2.38-1.95 1.12-3.28 3.21-3.28 5.62 0 2.03.94 3.84 2.41 5.03-3 1.06-7.41 5.55-7.41 13.47h23c0-7.92-4.41-12.41-7.41-13.47 1.47-1.19 2.41-3 2.41-5.03 0-2.41-1.33-4.5-3.28-5.62.49-.67.78-1.49.78-2.38 0-2.21-1.79-4-4-4z\" stroke=\"#000\" stroke-width=\"1.5\" stroke-linecap=\"round\"/></g><g id=\"black-knight\" class=\"black knight\" fill=\"none\" fill-rule=\"evenodd\" stroke=\"#000\" stroke-width=\"1.5\" stroke-linecap=\"round\" stroke-linejoin=\"round\"><path d=\"M 22,10 C 32.5,11 38.5,18 38,39 L 15,39 C 15,30 25,32.5 23,18\" style=\"fill:#000000; stroke:#000000;\"/><path d=\"M 24,18 C 24.38,20.91 18.45,25.37 16,27 C 13,29 13.18,31.34 11,31 C 9.958,30.06 12.41,27.96 11,28 C 10,28 11.19,29.23 10,30 C 9,30 5.997,31 6,26 C 6,24 12,14 12,14 C 12,14 13.89,12.1 14,10.5 C 13.27,9.506 13.5,8.5 13.5,7.5 C 14.5,6.5 16.5,10 16.5,10 L 18.5,10 C 18.5,10 19.28,8.008 21,7 C 22,7 22,10 22,10\" style=\"fill:#000000; stroke:#000000;\"/><path d=\"M 9.5 25.5 A 0.5 0.5 0 1 1 8.5,25.5 A 0.5 0.5 0 1 1 9.5 25.5 z\" style=\"fill:#ececec; stroke:#ececec;\"/><path d=\"M 15 15.5 A 0.5 1.5 0 1 1 14,15.5 A 0.5 1.5 0 1 1 15 15.5 z\" transform=\"matrix(0.866,0.5,-0.5,0.866,9.693,-5.173)\" style=\"fill:#ececec; stroke:#ececec;\"/><path d=\"M 24.55,10.4 L 24.1,11.85 L 24.6,12 C 27.75,13 30.25,14.49 32.5,18.75 C 34.75,23.01 35.75,29.06 35.25,39 L 35.2,39.5 L 37.45,39.5 L 37.5,39 C 38,28.94 36.62,22.15 34.25,17.66 C 31.88,13.17 28.46,11.02 25.06,10.5 L 24.55,10.4 z \" style=\"fill:#ececec; stroke:none;\"/></g><g id=\"black-rook\" class=\"black rook\" fill=\"#000\" fill-rule=\"evenodd\" stroke=\"#000\" stroke-width=\"1.5\" stroke-linecap=\"round\" stroke-linejoin=\"round\"><path d=\"M9 39h27v-3H9v3zM12.5 32l1.5-2.5h17l1.5 2.5h-20zM12 36v-4h21v4H12z\" stroke-linecap=\"butt\"/><path d=\"M14 29.5v-13h17v13H14z\" stroke-linecap=\"butt\" stroke-linejoin=\"miter\"/><path d=\"M14 16.5L11 14h23l-3 2.5H14zM11 14V9h4v2h5V9h5v2h5V9h4v5H11z\" stroke-linecap=\"butt\"/><path d=\"M12 35.5h21M13 31.5h19M14 29.5h17M14 16.5h17M11 14h23\" fill=\"none\" stroke=\"#fff\" stroke-width=\"1\" stroke-linejoin=\"miter\"/></g><g id=\"black-king\" class=\"black king\" fill=\"none\" fill-rule=\"evenodd\" stroke=\"#000\" stroke-width=\"1.5\" stroke-linecap=\"round\" stroke-linejoin=\"round\"><path d=\"M22.5 11.63V6\" stroke-linejoin=\"miter\"/><path d=\"M22.5 25s4.5-7.5 3-10.5c0 0-1-2.5-3-2.5s-3 2.5-3 2.5c-1.5 3 3 10.5 3 10.5\" fill=\"#000\" stroke-linecap=\"butt\" stroke-linejoin=\"miter\"/><path d=\"M11.5 37c5.5 3.5 15.5 3.5 21 0v-7s9-4.5 6-10.5c-4-6.5-13.5-3.5-16 4V27v-3.5c-3.5-7.5-13-10.5-16-4-3 6 5 10 5 10V37z\" fill=\"#000\"/><path d=\"M20 8h5\" stroke-linejoin=\"miter\"/><path d=\"M32 29.5s8.5-4 6.03-9.65C34.15 14 25 18 22.5 24.5l.01 2.1-.01-2.1C20 18 9.906 14 6.997 19.85c-2.497 5.65 4.853 9 4.853 9M11.5 30c5.5-3 15.5-3 21 0m-21 3.5c5.5-3 15.5-3 21 0m-21 3.5c5.5-3 15.5-3 21 0\" stroke=\"#fff\"/></g></defs><rect x=\"20\" y=\"335\" width=\"45\" height=\"45\" class=\"square dark a1\" stroke=\"none\" fill=\"#d18b47\"/><rect x=\"65\" y=\"335\" width=\"45\" height=\"45\" class=\"square light b1\" stroke=\"none\" fill=\"#ffce9e\"/><rect x=\"110\" y=\"335\" width=\"45\" height=\"45\" class=\"square dark c1\" stroke=\"none\" fill=\"#d18b47\"/><use xlink:href=\"#white-rook\" transform=\"translate(110, 335)\"/><rect x=\"155\" y=\"335\" width=\"45\" height=\"45\" class=\"square light d1\" stroke=\"none\" fill=\"#ffce9e\"/><rect x=\"200\" y=\"335\" width=\"45\" height=\"45\" class=\"square dark e1\" stroke=\"none\" fill=\"#d18b47\"/><rect x=\"245\" y=\"335\" width=\"45\" height=\"45\" class=\"square light f1\" stroke=\"none\" fill=\"#ffce9e\"/><rect x=\"290\" y=\"335\" width=\"45\" height=\"45\" class=\"square dark g1\" stroke=\"none\" fill=\"#d18b47\"/><rect x=\"335\" y=\"335\" width=\"45\" height=\"45\" class=\"square light h1\" stroke=\"none\" fill=\"#ffce9e\"/><rect x=\"20\" y=\"290\" width=\"45\" height=\"45\" class=\"square light a2\" stroke=\"none\" fill=\"#ffce9e\"/><rect x=\"65\" y=\"290\" width=\"45\" height=\"45\" class=\"square dark b2\" stroke=\"none\" fill=\"#d18b47\"/><rect x=\"110\" y=\"290\" width=\"45\" height=\"45\" class=\"square light c2\" stroke=\"none\" fill=\"#ffce9e\"/><rect x=\"155\" y=\"290\" width=\"45\" height=\"45\" class=\"square dark d2\" stroke=\"none\" fill=\"#d18b47\"/><rect x=\"200\" y=\"290\" width=\"45\" height=\"45\" class=\"square light e2\" stroke=\"none\" fill=\"#ffce9e\"/><rect x=\"245\" y=\"290\" width=\"45\" height=\"45\" class=\"square dark f2\" stroke=\"none\" fill=\"#d18b47\"/><use xlink:href=\"#white-king\" transform=\"translate(245, 290)\"/><rect x=\"290\" y=\"290\" width=\"45\" height=\"45\" class=\"square light g2\" stroke=\"none\" fill=\"#ffce9e\"/><rect x=\"335\" y=\"290\" width=\"45\" height=\"45\" class=\"square dark h2\" stroke=\"none\" fill=\"#d18b47\"/><rect x=\"20\" y=\"245\" width=\"45\" height=\"45\" class=\"square dark a3\" stroke=\"none\" fill=\"#d18b47\"/><rect x=\"65\" y=\"245\" width=\"45\" height=\"45\" class=\"square light b3\" stroke=\"none\" fill=\"#ffce9e\"/><use xlink:href=\"#white-knight\" transform=\"translate(65, 245)\"/><rect x=\"110\" y=\"245\" width=\"45\" height=\"45\" class=\"square dark c3\" stroke=\"none\" fill=\"#d18b47\"/><use xlink:href=\"#white-rook\" transform=\"translate(110, 245)\"/><rect x=\"155\" y=\"245\" width=\"45\" height=\"45\" class=\"square light d3\" stroke=\"none\" fill=\"#ffce9e\"/><rect x=\"200\" y=\"245\" width=\"45\" height=\"45\" class=\"square dark e3\" stroke=\"none\" fill=\"#d18b47\"/><rect x=\"245\" y=\"245\" width=\"45\" height=\"45\" class=\"square light f3\" stroke=\"none\" fill=\"#ffce9e\"/><rect x=\"290\" y=\"245\" width=\"45\" height=\"45\" class=\"square dark g3\" stroke=\"none\" fill=\"#d18b47\"/><rect x=\"335\" y=\"245\" width=\"45\" height=\"45\" class=\"square light h3\" stroke=\"none\" fill=\"#ffce9e\"/><rect x=\"20\" y=\"200\" width=\"45\" height=\"45\" class=\"square light a4\" stroke=\"none\" fill=\"#ffce9e\"/><use xlink:href=\"#white-pawn\" transform=\"translate(20, 200)\"/><rect x=\"65\" y=\"200\" width=\"45\" height=\"45\" class=\"square dark b4\" stroke=\"none\" fill=\"#d18b47\"/><rect x=\"110\" y=\"200\" width=\"45\" height=\"45\" class=\"square light c4\" stroke=\"none\" fill=\"#ffce9e\"/><rect x=\"155\" y=\"200\" width=\"45\" height=\"45\" class=\"square dark lastmove d4\" stroke=\"none\" fill=\"#aaa23b\"/><rect x=\"200\" y=\"200\" width=\"45\" height=\"45\" class=\"square light e4\" stroke=\"none\" fill=\"#ffce9e\"/><use xlink:href=\"#white-pawn\" transform=\"translate(200, 200)\"/><rect x=\"245\" y=\"200\" width=\"45\" height=\"45\" class=\"square dark f4\" stroke=\"none\" fill=\"#d18b47\"/><use xlink:href=\"#white-pawn\" transform=\"translate(245, 200)\"/><rect x=\"290\" y=\"200\" width=\"45\" height=\"45\" class=\"square light g4\" stroke=\"none\" fill=\"#ffce9e\"/><use xlink:href=\"#white-pawn\" transform=\"translate(290, 200)\"/><rect x=\"335\" y=\"200\" width=\"45\" height=\"45\" class=\"square dark h4\" stroke=\"none\" fill=\"#d18b47\"/><rect x=\"20\" y=\"155\" width=\"45\" height=\"45\" class=\"square dark a5\" stroke=\"none\" fill=\"#d18b47\"/><use xlink:href=\"#black-pawn\" transform=\"translate(20, 155)\"/><rect x=\"65\" y=\"155\" width=\"45\" height=\"45\" class=\"square light b5\" stroke=\"none\" fill=\"#ffce9e\"/><rect x=\"110\" y=\"155\" width=\"45\" height=\"45\" class=\"square dark c5\" stroke=\"none\" fill=\"#d18b47\"/><rect x=\"155\" y=\"155\" width=\"45\" height=\"45\" class=\"square light lastmove d5\" stroke=\"none\" fill=\"#cdd16a\"/><use xlink:href=\"#white-pawn\" transform=\"translate(155, 155)\"/><rect x=\"200\" y=\"155\" width=\"45\" height=\"45\" class=\"square dark e5\" stroke=\"none\" fill=\"#d18b47\"/><rect x=\"245\" y=\"155\" width=\"45\" height=\"45\" class=\"square light f5\" stroke=\"none\" fill=\"#ffce9e\"/><rect x=\"290\" y=\"155\" width=\"45\" height=\"45\" class=\"square dark g5\" stroke=\"none\" fill=\"#d18b47\"/><rect x=\"335\" y=\"155\" width=\"45\" height=\"45\" class=\"square light h5\" stroke=\"none\" fill=\"#ffce9e\"/><use xlink:href=\"#white-pawn\" transform=\"translate(335, 155)\"/><rect x=\"20\" y=\"110\" width=\"45\" height=\"45\" class=\"square light a6\" stroke=\"none\" fill=\"#ffce9e\"/><rect x=\"65\" y=\"110\" width=\"45\" height=\"45\" class=\"square dark b6\" stroke=\"none\" fill=\"#d18b47\"/><use xlink:href=\"#black-pawn\" transform=\"translate(65, 110)\"/><rect x=\"110\" y=\"110\" width=\"45\" height=\"45\" class=\"square light c6\" stroke=\"none\" fill=\"#ffce9e\"/><use xlink:href=\"#black-pawn\" transform=\"translate(110, 110)\"/><rect x=\"155\" y=\"110\" width=\"45\" height=\"45\" class=\"square dark d6\" stroke=\"none\" fill=\"#d18b47\"/><use xlink:href=\"#black-rook\" transform=\"translate(155, 110)\"/><rect x=\"200\" y=\"110\" width=\"45\" height=\"45\" class=\"square light e6\" stroke=\"none\" fill=\"#ffce9e\"/><rect x=\"245\" y=\"110\" width=\"45\" height=\"45\" class=\"square dark f6\" stroke=\"none\" fill=\"#d18b47\"/><rect x=\"290\" y=\"110\" width=\"45\" height=\"45\" class=\"square light g6\" stroke=\"none\" fill=\"#ffce9e\"/><rect x=\"335\" y=\"110\" width=\"45\" height=\"45\" class=\"square dark h6\" stroke=\"none\" fill=\"#d18b47\"/><use xlink:href=\"#black-pawn\" transform=\"translate(335, 110)\"/><rect x=\"20\" y=\"65\" width=\"45\" height=\"45\" class=\"square dark a7\" stroke=\"none\" fill=\"#d18b47\"/><rect x=\"65\" y=\"65\" width=\"45\" height=\"45\" class=\"square light b7\" stroke=\"none\" fill=\"#ffce9e\"/><rect x=\"110\" y=\"65\" width=\"45\" height=\"45\" class=\"square dark c7\" stroke=\"none\" fill=\"#d18b47\"/><rect x=\"155\" y=\"65\" width=\"45\" height=\"45\" class=\"square light d7\" stroke=\"none\" fill=\"#ffce9e\"/><rect x=\"200\" y=\"65\" width=\"45\" height=\"45\" class=\"square dark e7\" stroke=\"none\" fill=\"#d18b47\"/><use xlink:href=\"#black-knight\" transform=\"translate(200, 65)\"/><rect x=\"245\" y=\"65\" width=\"45\" height=\"45\" class=\"square light f7\" stroke=\"none\" fill=\"#ffce9e\"/><use xlink:href=\"#black-pawn\" transform=\"translate(245, 65)\"/><rect x=\"290\" y=\"65\" width=\"45\" height=\"45\" class=\"square dark g7\" stroke=\"none\" fill=\"#d18b47\"/><use xlink:href=\"#black-pawn\" transform=\"translate(290, 65)\"/><rect x=\"335\" y=\"65\" width=\"45\" height=\"45\" class=\"square light h7\" stroke=\"none\" fill=\"#ffce9e\"/><rect x=\"20\" y=\"20\" width=\"45\" height=\"45\" class=\"square light a8\" stroke=\"none\" fill=\"#ffce9e\"/><rect x=\"65\" y=\"20\" width=\"45\" height=\"45\" class=\"square dark b8\" stroke=\"none\" fill=\"#d18b47\"/><rect x=\"110\" y=\"20\" width=\"45\" height=\"45\" class=\"square light c8\" stroke=\"none\" fill=\"#ffce9e\"/><rect x=\"155\" y=\"20\" width=\"45\" height=\"45\" class=\"square dark d8\" stroke=\"none\" fill=\"#d18b47\"/><use xlink:href=\"#black-rook\" transform=\"translate(155, 20)\"/><rect x=\"200\" y=\"20\" width=\"45\" height=\"45\" class=\"square light e8\" stroke=\"none\" fill=\"#ffce9e\"/><rect x=\"245\" y=\"20\" width=\"45\" height=\"45\" class=\"square dark f8\" stroke=\"none\" fill=\"#d18b47\"/><use xlink:href=\"#black-king\" transform=\"translate(245, 20)\"/><rect x=\"290\" y=\"20\" width=\"45\" height=\"45\" class=\"square light g8\" stroke=\"none\" fill=\"#ffce9e\"/><rect x=\"335\" y=\"20\" width=\"45\" height=\"45\" class=\"square dark h8\" stroke=\"none\" fill=\"#d18b47\"/><text x=\"42\" y=\"10\" font-size=\"14\" text-anchor=\"middle\" alignment-baseline=\"middle\">a</text><text x=\"42\" y=\"390\" font-size=\"14\" text-anchor=\"middle\" alignment-baseline=\"middle\">a</text><text x=\"87\" y=\"10\" font-size=\"14\" text-anchor=\"middle\" alignment-baseline=\"middle\">b</text><text x=\"87\" y=\"390\" font-size=\"14\" text-anchor=\"middle\" alignment-baseline=\"middle\">b</text><text x=\"132\" y=\"10\" font-size=\"14\" text-anchor=\"middle\" alignment-baseline=\"middle\">c</text><text x=\"132\" y=\"390\" font-size=\"14\" text-anchor=\"middle\" alignment-baseline=\"middle\">c</text><text x=\"177\" y=\"10\" font-size=\"14\" text-anchor=\"middle\" alignment-baseline=\"middle\">d</text><text x=\"177\" y=\"390\" font-size=\"14\" text-anchor=\"middle\" alignment-baseline=\"middle\">d</text><text x=\"222\" y=\"10\" font-size=\"14\" text-anchor=\"middle\" alignment-baseline=\"middle\">e</text><text x=\"222\" y=\"390\" font-size=\"14\" text-anchor=\"middle\" alignment-baseline=\"middle\">e</text><text x=\"267\" y=\"10\" font-size=\"14\" text-anchor=\"middle\" alignment-baseline=\"middle\">f</text><text x=\"267\" y=\"390\" font-size=\"14\" text-anchor=\"middle\" alignment-baseline=\"middle\">f</text><text x=\"312\" y=\"10\" font-size=\"14\" text-anchor=\"middle\" alignment-baseline=\"middle\">g</text><text x=\"312\" y=\"390\" font-size=\"14\" text-anchor=\"middle\" alignment-baseline=\"middle\">g</text><text x=\"357\" y=\"10\" font-size=\"14\" text-anchor=\"middle\" alignment-baseline=\"middle\">h</text><text x=\"357\" y=\"390\" font-size=\"14\" text-anchor=\"middle\" alignment-baseline=\"middle\">h</text><text x=\"10\" y=\"357\" font-size=\"14\" text-anchor=\"middle\" alignment-baseline=\"middle\">1</text><text x=\"390\" y=\"357\" font-size=\"14\" text-anchor=\"middle\" alignment-baseline=\"middle\">1</text><text x=\"10\" y=\"312\" font-size=\"14\" text-anchor=\"middle\" alignment-baseline=\"middle\">2</text><text x=\"390\" y=\"312\" font-size=\"14\" text-anchor=\"middle\" alignment-baseline=\"middle\">2</text><text x=\"10\" y=\"267\" font-size=\"14\" text-anchor=\"middle\" alignment-baseline=\"middle\">3</text><text x=\"390\" y=\"267\" font-size=\"14\" text-anchor=\"middle\" alignment-baseline=\"middle\">3</text><text x=\"10\" y=\"222\" font-size=\"14\" text-anchor=\"middle\" alignment-baseline=\"middle\">4</text><text x=\"390\" y=\"222\" font-size=\"14\" text-anchor=\"middle\" alignment-baseline=\"middle\">4</text><text x=\"10\" y=\"177\" font-size=\"14\" text-anchor=\"middle\" alignment-baseline=\"middle\">5</text><text x=\"390\" y=\"177\" font-size=\"14\" text-anchor=\"middle\" alignment-baseline=\"middle\">5</text><text x=\"10\" y=\"132\" font-size=\"14\" text-anchor=\"middle\" alignment-baseline=\"middle\">6</text><text x=\"390\" y=\"132\" font-size=\"14\" text-anchor=\"middle\" alignment-baseline=\"middle\">6</text><text x=\"10\" y=\"87\" font-size=\"14\" text-anchor=\"middle\" alignment-baseline=\"middle\">7</text><text x=\"390\" y=\"87\" font-size=\"14\" text-anchor=\"middle\" alignment-baseline=\"middle\">7</text><text x=\"10\" y=\"42\" font-size=\"14\" text-anchor=\"middle\" alignment-baseline=\"middle\">8</text><text x=\"390\" y=\"42\" font-size=\"14\" text-anchor=\"middle\" alignment-baseline=\"middle\">8</text></svg>"
      ],
      "text/plain": [
       "<IPython.core.display.SVG object>"
      ]
     },
     "execution_count": 9,
     "metadata": {},
     "output_type": "execute_result"
    }
   ],
   "source": [
    "movehistory =[]\n",
    "board = chess.Board(positions[1])\n",
    "boardvalue = init_evaluate_board()\n",
    "\n",
    "mov = selectmove(6)\n",
    "print(solutions[1])\n",
    "print(board.san(mov))\n",
    "\n",
    "make_move(mov)\n",
    "SVG(chess.svg.board(board=board,size=400,lastmove=mov))"
   ]
  },
  {
   "cell_type": "markdown",
   "metadata": {},
   "source": [
    "Now I loop over all positions and count the number of correct solutions for different search depth."
   ]
  },
  {
   "cell_type": "code",
   "execution_count": 13,
   "metadata": {},
   "outputs": [
    {
     "data": {
      "text/html": [
       "<pre>✔️ 2 min 2 s (2021-05-03T10:44:48/2021-05-03T10:46:51)</pre>"
      ],
      "text/plain": [
       "<IPython.core.display.HTML object>"
      ]
     },
     "metadata": {},
     "output_type": "display_data"
    },
    {
     "name": "stdout",
     "output_type": "stream",
     "text": [
      "Move problem 1 Qd1+ / Solution: Qd1+\n",
      "OK\n",
      "Move problem 2 g5 / Solution: d5\n",
      "wrong\n",
      "Move problem 3 Kg8 / Solution: f5\n",
      "wrong\n",
      "Move problem 4 c4 / Solution: e6\n",
      "wrong\n",
      "Move problem 5 Rad1 / Solution: a4\n",
      "wrong\n",
      "Move problem 6 g6 / Solution: g6\n",
      "OK\n",
      "Move problem 7 Nf6 / Solution: Nf6\n",
      "OK\n",
      "Move problem 8 Kf2 / Solution: f5\n",
      "wrong\n",
      "Move problem 9 Bc4 / Solution: f5\n",
      "wrong\n",
      "Move problem 10 Re7 / Solution: Ne5\n",
      "wrong\n",
      "Move problem 11 Rad1 / Solution: f4\n",
      "wrong\n",
      "Move problem 12 Red8 / Solution: Bf5\n",
      "wrong\n",
      "Move problem 13 b4 / Solution: b4\n",
      "OK\n",
      "Move problem 14 Qd4+ / Solution: Qd2 Qe1\n",
      "wrong\n",
      "Move problem 15 Qxg7+ / Solution: Qxg7+\n",
      "OK\n",
      "Move problem 16 e6 / Solution: Ne4\n",
      "wrong\n",
      "Move problem 17 Kh8 / Solution: h5\n",
      "wrong\n",
      "Move problem 18 Kh8 / Solution: Nb3\n",
      "wrong\n",
      "Move problem 19 Rh8 / Solution: Rxe4\n",
      "wrong\n",
      "Move problem 20 Kb1 / Solution: g4\n",
      "wrong\n",
      "Move problem 21 c5 / Solution: Nh6\n",
      "wrong\n",
      "Move problem 22 Kh8 / Solution: Bxe4\n",
      "wrong\n",
      "Move problem 23 Rg8 / Solution: f6\n",
      "wrong\n",
      "Move problem 24 bxc5 / Solution: f4\n",
      "wrong\n",
      "Number of correct solved: 5\n"
     ]
    }
   ],
   "source": [
    "depth = 4\n",
    "solved = 0\n",
    "for i in range(24):\n",
    "    movehistory =[]\n",
    "    board = chess.Board(positions[i])\n",
    "    boardvalue = init_evaluate_board()\n",
    "\n",
    "    mov = selectmove(depth)\n",
    "    print(\"Move problem \" + str(i+1) + \" \" + board.san(mov) + \" / Solution: \" + solutions[i])\n",
    "\n",
    "    if str(board.san(mov)) in str(solutions[i]):\n",
    "        solved = solved + 1\n",
    "        print(\"OK\")\n",
    "    else:\n",
    "        print(\"wrong\")\n",
    "\n",
    "print(\"Number of correct solved: \" + str(solved))"
   ]
  },
  {
   "cell_type": "markdown",
   "metadata": {},
   "source": [
    "For a search depth of 3 it solves 4 positions in 15 sec.\n",
    "\n",
    "For a search depth of 4 it solves 5 positions in 2 min 14 sec.\n",
    "\n",
    "For a search depth of 5 it solves 7 positions in 29 min 12 sec.\n",
    "\n",
    "The program is now able to solve some of the 24 test positions in several minutes. In the next articles I will try to improve the speed and so the quality of the search."
   ]
  },
  {
   "cell_type": "markdown",
   "metadata": {},
   "source": [
    "## Now we search through other things\n",
    "\n",
    "using positions by \"silent but deadly\""
   ]
  },
  {
   "cell_type": "code",
   "execution_count": 25,
   "metadata": {},
   "outputs": [
    {
     "data": {
      "text/html": [
       "<pre>✔️ 0 ns (2021-05-03T11:34:05/2021-05-03T11:34:05)</pre>"
      ],
      "text/plain": [
       "<IPython.core.display.HTML object>"
      ]
     },
     "metadata": {},
     "output_type": "display_data"
    }
   ],
   "source": [
    "silentButDeadly = [\n",
    "    '1qr3k1/p2nbppp/bp2p3/3p4/3P4/1P2PNP1/P2Q1PBP/1N2R1K1 b - - bm Qc7; id \"sbd.001\";',\n",
    "    '1r2r1k1/3bnppp/p2q4/2RPp3/4P3/6P1/2Q1NPBP/2R3K1 w - - bm Rc7; id \"sbd.002\";',\n",
    "    '2b1k2r/2p2ppp/1qp4n/7B/1p2P3/5Q2/PPPr2PP/R2N1R1K b k - bm O-O; id \"sbd.003\";',\n",
    "    '2b5/1p4k1/p2R2P1/4Np2/1P3Pp1/1r6/5K2/8 w - - bm Rd8; id \"sbd.004\";',\n",
    "    '2brr1k1/ppq2ppp/2pb1n2/8/3NP3/2P2P2/P1Q2BPP/1R1R1BK1 w - - bm g3; id \"sbd.005\";',\n",
    "    '2kr2nr/1pp3pp/p1pb4/4p2b/4P1P1/5N1P/PPPN1P2/R1B1R1K1 b - - bm Bf7; id \"sbd.006\";',\n",
    "    '2r1k2r/1p1qbppp/p3pn2/3pBb2/3P4/1QN1P3/PP2BPPP/2R2RK1 b k - bm O-O; id \"sbd.007\";',\n",
    "    '2r1r1k1/pbpp1npp/1p1b3q/3P4/4RN1P/1P4P1/PB1Q1PB1/2R3K1 w - - bm Rce1; id \"sbd.008\";',\n",
    "    '2r2k2/r4p2/2b1p1p1/1p1p2Pp/3R1P1P/P1P5/1PB5/2K1R3 w - - bm Kd2; id \"sbd.009\";',\n",
    "    '2r3k1/5pp1/1p2p1np/p1q5/P1P4P/1P1Q1NP1/5PK1/R7 w - - bm Rd1; id \"sbd.010\";',\n",
    "    '2r3qk/p5p1/1n3p1p/4PQ2/8/3B4/5P1P/3R2K1 w - - bm e6; id \"sbd.011\";',\n",
    "    '3b4/3k1pp1/p1pP2q1/1p2B2p/1P2P1P1/P2Q3P/4K3/8 w - - bm Qf3; id \"sbd.012\";',\n",
    "    '3n1r1k/2p1p1bp/Rn4p1/6N1/3P3P/2N1B3/2r2PP1/5RK1 w - - bm Na4 Nce4; id \"sbd.013\";',\n",
    "    '3q1rk1/3rbppp/ppbppn2/1N6/2P1P3/BP6/P1B1QPPP/R3R1K1 w - - bm Nd4; id \"sbd.014\";',\n",
    "    '3r1rk1/p1q4p/1pP1ppp1/2n1b1B1/2P5/6P1/P1Q2PBP/1R3RK1 w - - bm Bh6; id \"sbd.015\";',\n",
    "    '3r2k1/2q2p1p/5bp1/p1pP4/PpQ5/1P3NP1/5PKP/3R4 b - - bm Qd6; id \"sbd.016\";',\n",
    "    '3r2k1/p1q1npp1/3r1n1p/2p1p3/4P2B/P1P2Q1P/B4PP1/1R2R1K1 w - - bm Bc4; id \"sbd.017\";',\n",
    "    '3r4/2k5/p3N3/4p3/1p1p4/4r3/PPP3P1/1K1R4 b - - bm Kd7; id \"sbd.018\";',\n",
    "    '3r4/2R1np1p/1p1rpk2/p2b1p2/8/PP2P3/4BPPP/2R1NK2 w - - bm b4; id \"sbd.019\";',\n",
    "    '3rk2r/1b2bppp/p1qppn2/1p6/4P3/PBN2PQ1/1PP3PP/R1B1R1K1 b k - bm O-O; id \"sbd.020\";',\n",
    "    '3rk2r/1bq2pp1/2pb1n1p/p3pP2/P1B1P3/8/1P2QBPP/2RN1R1K b k - bm Be7 O-O; id \"sbd.021\";',\n",
    "    '3rkb1r/pppb1pp1/4n2p/2p5/3NN3/1P5P/PBP2PP1/3RR1K1 w - - bm Nf5; id \"sbd.022\";',\n",
    "    '3rr1k1/1pq2ppp/p1n5/3p4/6b1/2P2N2/PP1QBPPP/3R1RK1 w - - bm Rfe1; id \"sbd.023\";',\n",
    "    '4r1k1/1q1n1ppp/3pp3/rp6/p2PP3/N5P1/PPQ2P1P/3RR1K1 w - - bm Rc1; id \"sbd.024\";',\n",
    "    '4rb1k/1bqn1pp1/p3rn1p/1p2pN2/1PP1p1N1/P1P2Q1P/1BB2PP1/3RR1K1 w - - bm Qe2; id \"sbd.025\";',\n",
    "    '4rr2/2p5/1p1p1kp1/p6p/P1P4P/6P1/1P3PK1/3R1R2 w - - bm Rfe1; id \"sbd.026\";',\n",
    "    '5r2/pp1b1kpp/8/2pPp3/2P1p2P/4P1r1/PPRKB1P1/6R1 b - - bm Ke7; id \"sbd.027\";',\n",
    "    '6k1/1R5p/r2p2p1/2pN2B1/2bb4/P7/1P1K2PP/8 w - - bm Nf6+; id \"sbd.028\";',\n",
    "    '6k1/pp1q1pp1/2nBp1bp/P2pP3/3P4/8/1P2BPPP/2Q3K1 w - - bm Qc5; id \"sbd.029\";',\n",
    "    '6k1/pp2rp1p/2p2bp1/1n1n4/1PN3P1/P2rP2P/R3NPK1/2B2R2 w - - bm Rd2; id \"sbd.030\";',\n",
    "    '8/2p2kpp/p6r/4Pp2/1P2pPb1/2P3P1/P2B1K1P/4R3 w - - bm h4; id \"sbd.031\";',\n",
    "    'Q5k1/5pp1/5n1p/2b2P2/8/5N1P/5PP1/2q1B1K1 b - - bm Kh7; id \"sbd.032\";',\n",
    "    'r1b1k1nr/1p3ppp/p1np4/4p1q1/2P1P3/N1NB4/PP3PPP/2RQK2R w Kkq - bm O-O; id \"sbd.033\";',\n",
    "    'r1b1k2r/p1pp1ppp/1np1q3/4P3/1bP5/1P6/PB1NQPPP/R3KB1R b KQkq - bm O-O; id \"sbd.034\";',\n",
    "    'r1b1k2r/ppppqppp/8/2bP4/3p4/6P1/PPQPPPBP/R1B2RK1 b kq - bm O-O; id \"sbd.035\";',\n",
    "    'r1b1k2r/ppq1bppp/2n5/2N1p3/8/2P1B1P1/P3PPBP/R2Q1RK1 b kq - bm O-O; id \"sbd.036\";',\n",
    "    'r1b1kb1r/pp2qppp/2pp4/8/4nP2/2N2N2/PPPP2PP/R1BQK2R w KQkq - bm O-O; id \"sbd.037\";',\n",
    "    'r1b1qrk1/pp4b1/2pRn1pp/5p2/2n2B2/2N2NPP/PPQ1PPB1/5RK1 w - - bm Rd3; id \"sbd.038\";',\n",
    "    'r1b2rk1/1pqn1pp1/p2bpn1p/8/3P4/2NB1N2/PPQB1PPP/3R1RK1 w - - bm Rc1; id \"sbd.039\";',\n",
    "    'r1b2rk1/2qnbp1p/p1npp1p1/1p4PQ/4PP2/1NNBB3/PPP4P/R4RK1 w - - bm Qh6; id \"sbd.040\";',\n",
    "    'r1b2rk1/pp2ppbp/2n2np1/2q5/5B2/1BN1PN2/PP3PPP/2RQK2R w K - bm O-O; id \"sbd.041\";',\n",
    "    'r1b2rk1/pp4pp/1q1Nppn1/2n4B/1P3P2/2B2RP1/P6P/R2Q3K b - - bm Na6; id \"sbd.042\";',\n",
    "    'r1b2rk1/ppp1qppp/1b1n4/8/B2n4/3NN3/PPPP1PPP/R1BQK2R w KQ - bm O-O; id \"sbd.043\";',\n",
    "    'r1b2rk1/ppq1bppp/2p1pn2/8/2NP4/2N1P3/PP2BPPP/2RQK2R w K - bm O-O; id \"sbd.044\";',\n",
    "    'r1bq1rk1/1p1n1pp1/p4n1p/2bp4/8/2NBPN2/PPQB1PPP/R3K2R w KQ - bm O-O; id \"sbd.045\";',\n",
    "    'r1bq1rk1/1p2ppbp/p2p1np1/6B1/2P1P3/2N5/PP1QBPPP/R3K2R w KQ - bm O-O; id \"sbd.046\";',\n",
    "    'r1bq1rk1/1p3ppp/p1np4/3Np1b1/2B1P3/P7/1PP2PPP/RN1QK2R w KQ - bm O-O; id \"sbd.047\";',\n",
    "    'r1bq1rk1/4bppp/ppnppn2/8/2P1P3/2N5/PPN1BPPP/R1BQK2R w KQ - bm O-O; id \"sbd.048\";',\n",
    "    'r1bq1rk1/pp1n1pbp/2n1p1p1/2ppP3/8/2PP1NP1/PP1N1PBP/R1BQ1RK1 w - - bm d4; id \"sbd.049\";',\n",
    "    'r1bq1rk1/pp1pppbp/2n2np1/8/4P3/1NN5/PPP1BPPP/R1BQK2R w KQ - bm O-O; id \"sbd.050\";',\n",
    "    'r1bq1rk1/pp2ppbp/2n2np1/2p3B1/4P3/2P2N2/PP1NBPPP/R2QK2R w KQ - bm O-O; id \"sbd.051\";',\n",
    "    'r1bq1rk1/pp2ppbp/2n3p1/2p5/2BPP3/2P1B3/P3NPPP/R2QK2R w KQ - bm O-O; id \"sbd.052\";',\n",
    "    'r1bq1rk1/pp3ppp/2n1pn2/2p5/1bBP4/2N1PN2/PP3PPP/R1BQ1RK1 w - - bm a3; id \"sbd.053\";',\n",
    "    'r1bq1rk1/pp3ppp/2n2n2/3p4/8/P1NB4/1PP2PPP/R1BQK2R w KQ - bm O-O; id \"sbd.054\";',\n",
    "    'r1bq1rk1/ppp1npb1/3p2pp/3Pp2n/1PP1P3/2N5/P2NBPPP/R1BQR1K1 b - - bm Nf4; id \"sbd.055\";',\n",
    "    'r1bq1rk1/ppp2ppp/2n1pn2/3p4/1bPP4/2NBPN2/PP3PPP/R1BQK2R w KQ - bm O-O; id \"sbd.056\";',\n",
    "    'r1bq1rk1/pppp1pbp/2n2np1/4p3/2P5/P1N2NP1/1P1PPPBP/R1BQK2R w KQ - bm O-O; id \"sbd.057\";',\n",
    "    'r1bqk2r/2ppbppp/p1n2n2/1p2p3/4P3/1B3N2/PPPPQPPP/RNB2RK1 b kq - bm O-O; id \"sbd.058\";',\n",
    "    'r1bqk2r/5ppp/p1np4/1p1Np1b1/4P3/2P5/PPN2PPP/R2QKB1R b KQkq - bm O-O; id \"sbd.059\";',\n",
    "    'r1bqk2r/bp3ppp/p1n1pn2/3p4/1PP5/P1N1PN2/1B3PPP/R2QKB1R b KQkq - bm O-O; id \"sbd.060\";',\n",
    "    'r1bqk2r/p2pppbp/2p3pn/2p5/4P3/2P2N2/PP1P1PPP/RNBQR1K1 b kq - bm O-O; id \"sbd.061\";',\n",
    "    'r1bqk2r/pp2bppp/2n1p3/1B1n4/3P4/2N2N2/PP3PPP/R1BQ1RK1 b kq - bm O-O; id \"sbd.062\";',\n",
    "    'r1bqk2r/pp2bppp/2n1p3/3n4/3P4/2NB1N2/PP3PPP/R1BQ1RK1 b kq - bm O-O; id \"sbd.063\";',\n",
    "    'r1bqk2r/pp2ppbp/2np1np1/2p5/4P3/1B1P1N1P/PPP2PP1/RNBQK2R w KQkq - bm O-O; id \"sbd.064\";',\n",
    "    'r1bqk2r/ppn1bppp/2n5/2p1p3/8/2NP1NP1/PP1BPPBP/R2Q1RK1 b kq - bm O-O; id \"sbd.065\";',\n",
    "    'r1bqk2r/ppp1bppp/2n5/3p4/3P4/2PB1N2/P1P2PPP/R1BQ1RK1 b kq - bm O-O; id \"sbd.066\";',\n",
    "    'r1bqk2r/ppp2ppp/2nb4/3np3/8/PP2P3/1BQP1PPP/RN2KBNR b KQkq - bm O-O; id \"sbd.067\";',\n",
    "    'r1bqk2r/ppp2ppp/3b4/4p3/8/1PPP1N2/2PB1PPP/R2Q1RK1 b kq - bm O-O; id \"sbd.068\";',\n",
    "    'r1bqk2r/pppp1ppp/5n2/4p3/Bb2P3/5Q2/PPPPNPPP/R1B1K2R b KQkq - bm O-O; id \"sbd.069\";',\n",
    "    'r1bqkb1r/pp3ppp/2n5/2pp4/3Pn3/2N2N2/PPP1BPPP/R1BQK2R w KQkq - bm O-O; id \"sbd.070\";',\n",
    "    'r1bqkb1r/pp3ppp/2npp3/3nP3/2BP4/5N2/PP3PPP/RNBQK2R w KQkq - bm O-O; id \"sbd.071\";',\n",
    "    'r1bqkbnr/3p1ppp/p1p1p3/8/4P3/3B4/PPP2PPP/RNBQK2R w KQkq - bm O-O; id \"sbd.072\";',\n",
    "    'r1bqkbnr/ppp2ppp/2n5/8/2BpP3/5N2/PP3PPP/RNBQK2R w KQkq - bm O-O; id \"sbd.073\";',\n",
    "    'r1bqrbk1/1pp3pp/2n2p2/p2np3/8/PP1PPN2/1BQNBPPP/R3K2R w KQ - bm O-O; id \"sbd.074\";',\n",
    "    'r1br2k1/1p2qppp/pN2pn2/P7/2pn4/4N1P1/1P2PPBP/R3QRK1 b - - bm Rb8; id \"sbd.075\";',\n",
    "    'r1q1k2r/1b1nbppp/pp1ppn2/8/2PQP3/1PN2NP1/PB3PBP/R2R2K1 b kq - bm O-O; id \"sbd.076\";',\n",
    "    'r1q1k2r/pb1nbppp/1p2pn2/8/P1PNP3/2B3P1/2QN1PBP/R4RK1 b kq - bm O-O; id \"sbd.077\";',\n",
    "    'r1r3k1/1bq2pbp/pp1pp1p1/2n5/P3PP2/R2B4/1PPBQ1PP/3N1R1K w - - bm Bc3; id \"sbd.078\";',\n",
    "    'r1rn2k1/pp1qppbp/6p1/3pP3/3P4/1P3N1P/PB1Q1PP1/R3R1K1 w - - bm Rac1; id \"sbd.079\";',\n",
    "    'r2q1rk1/1b1nbpp1/pp2pn1p/8/2BN3B/2N1P3/PP2QPPP/2R2RK1 w - - bm Rfd1; id \"sbd.080\";',\n",
    "    'r2q1rk1/1b3ppp/4pn2/1pP5/1b6/2NBPN2/1PQ2PPP/R3K2R w KQ - bm O-O; id \"sbd.081\";',\n",
    "    'r2q1rk1/pb1nppbp/6p1/1p6/3PP3/3QBN1P/P3BPP1/R3K2R w KQ - bm O-O; id \"sbd.082\";',\n",
    "    'r2q1rk1/pb2bppp/npp1pn2/3pN3/2PP4/1PB3P1/P2NPPBP/R2Q1RK1 w - - bm e4; id \"sbd.083\";',\n",
    "    'r2q1rk1/pppb1pbp/2np1np1/4p3/2P5/P1NPPNP1/1P3PBP/R1BQK2R w KQ - bm O-O; id \"sbd.084\";',\n",
    "    'r2qk2r/1b1n1ppp/4pn2/p7/1pPP4/3BPN2/1B3PPP/R2QK2R w KQkq - bm O-O; id \"sbd.085\";',\n",
    "    'r2qk2r/1b2bppp/p1n1pn2/1p6/1P6/P2BPN2/1B2QPPP/RN3RK1 b kq - bm O-O; id \"sbd.086\";',\n",
    "    'r2qk2r/2p2ppp/p1n1b3/1pbpP3/4n3/1BP2N2/PP1N1PPP/R1BQ1RK1 b kq - bm O-O; id \"sbd.087\";',\n",
    "    'r2qk2r/3n1ppp/p3p3/3nP3/3R4/5N2/1P1N1PPP/3QR1K1 b kq - bm O-O; id \"sbd.088\";',\n",
    "    'r2qk2r/p1pn1ppp/b3pn2/3p4/Nb1P4/1P3NP1/P3PPBP/1RBQ1RK1 b kq - bm O-O Qe7; id \"sbd.089\";',\n",
    "    'r2qk2r/ppp1bppp/2n2n2/8/2BP2b1/2N2N2/PP3PPP/R1BQR1K1 b kq - bm O-O; id \"sbd.090\";',\n",
    "    'r2qkb1r/pb1n1p2/2p1p2p/4P1pn/PppP4/2N2NB1/1P2BPPP/R2Q1RK1 w kq - bm Ne4; id \"sbd.091\";',\n",
    "    'r2qkb1r/pp2nppp/1np1p3/4Pb2/3P4/PB3N2/1P3PPP/RNBQ1RK1 b kq - bm Ned5; id \"sbd.092\";',\n",
    "    'r2qkb1r/pp3ppp/2bppn2/8/2PQP3/2N2N2/PP3PPP/R1B1K2R w KQkq - bm O-O; id \"sbd.093\";',\n",
    "    'r2qr1k1/p3bppp/1p2n3/3Q1N2/5P2/4B1P1/PP3R1P/R5K1 w - - bm Rd1; id \"sbd.094\";',\n",
    "    'r2r2k1/p1pnqpp1/1p2p2p/3b4/3P4/3BPN2/PP3PPP/2RQR1K1 b - - bm c5; id \"sbd.095\";',\n",
    "    'r2r2k1/pp1b1ppp/8/3p2P1/3N4/P3P3/1P3P1P/3RK2R b K - bm Rac8; id \"sbd.096\";',\n",
    "    'r3k2r/1b1nb1p1/p1q1pn1p/1pp3N1/4PP2/2N5/PPB3PP/R1BQ1RK1 w kq - bm Nf3; id \"sbd.097\";',\n",
    "    'r3k2r/1pqnnppp/p5b1/1PPp1p2/3P4/2N5/P2NB1PP/2RQ1RK1 b kq - bm O-O; id \"sbd.098\";',\n",
    "    'r3k2r/p1q1nppp/1pn5/2P1p3/4P1Q1/P1P2P2/4N1PP/R1B2K1R b kq - bm O-O; id \"sbd.099\";',\n",
    "    'r3k2r/pp2pp1p/6p1/2nP4/1R2PB2/4PK2/P5PP/5bNR w kq - bm Ne2; id \"sbd.100\";',\n",
    "    'r3k2r/ppp1bppp/2n5/3n4/3PB3/8/PP3PPP/RNB1R1K1 b kq - bm O-O-O; id \"sbd.101\";',\n",
    "    'r3kb1r/pp3ppp/4bn2/3p4/P7/4N1P1/1P2PPBP/R1B1K2R w KQkq - bm O-O; id \"sbd.102\";',\n",
    "    'r3kbnr/1pp3pp/p1p2p2/8/3qP3/5Q1P/PP3PP1/RNB2RK1 w kq - bm Rd1; id \"sbd.103\";',\n",
    "    'r3kr2/pppb1p2/2n3p1/3Bp2p/4P2N/2P5/PP3PPP/2KR3R b q - bm O-O-O; id \"sbd.104\";',\n",
    "    'r3nrk1/pp2qpb1/3p1npp/2pPp3/2P1P2N/2N3Pb/PP1BBP1P/R2Q1RK1 w - - bm Re1; id \"sbd.105\";',\n",
    "    'r3r1k1/1pqn1pbp/p2p2p1/2nP2B1/P1P1P3/2NB3P/5PP1/R2QR1K1 w - - bm Rc1; id \"sbd.106\";',\n",
    "    'r3r1k1/pp1q1ppp/2p5/P2n1p2/1b1P4/1B2PP2/1PQ3PP/R1B2RK1 w - - bm e4; id \"sbd.107\";',\n",
    "    'r3r1k1/pp3ppp/2ppqn2/5R2/2P5/2PQP1P1/P2P2BP/5RK1 w - - bm Qd4; id \"sbd.108\";',\n",
    "    'r3rbk1/p2b1p2/5p1p/1q1p4/N7/6P1/PP1BPPBP/3Q1RK1 w - - bm Nc3; id \"sbd.109\";',\n",
    "    'r4r1k/pp1bq1b1/n2p2p1/2pPp1Np/2P4P/P1N1BP2/1P1Q2P1/2KR3R w - - bm Ne6; id \"sbd.110\";',\n",
    "    'r4rk1/1bqp1ppp/pp2pn2/4b3/P1P1P3/2N2BP1/1PQB1P1P/2R2RK1 w - - bm b3; id \"sbd.111\";',\n",
    "    'r4rk1/1q2bppp/p1bppn2/8/3BPP2/3B2Q1/1PP1N1PP/4RR1K w - - bm e5; id \"sbd.112\";',\n",
    "    'r4rk1/pp2qpp1/2pRb2p/4P3/2p5/2Q1PN2/PP3PPP/4K2R w K - bm O-O; id \"sbd.113\";',\n",
    "    'r7/3rq1kp/2p1bpp1/p1Pnp3/2B4P/PP4P1/1B1RQP2/2R3K1 b - - bm Rad8; id \"sbd.114\";',\n",
    "    'r7/pp1bpp2/1n1p2pk/1B3P2/4P1P1/2N5/PPP5/1K5R b - - bm Kg5; id \"sbd.115\";',\n",
    "    'rn1q1rk1/p4pbp/bp1p1np1/2pP4/8/P1N2NP1/1PQ1PPBP/R1B1K2R w KQ - bm O-O; id \"sbd.116\";',\n",
    "    'rn1q1rk1/pb3p2/1p5p/3n2P1/3p4/P4P2/1P1Q1BP1/R3KBNR b KQ - bm Re8+; id \"sbd.117\";',\n",
    "    'rn1q1rk1/pp2bppp/1n2p1b1/8/2pPP3/1BN1BP2/PP2N1PP/R2Q1RK1 w - - bm Bc2; id \"sbd.118\";',\n",
    "    'rn1q1rk1/pp3ppp/4bn2/2bp4/5B2/2NBP1N1/PP3PPP/R2QK2R w KQ - bm O-O; id \"sbd.119\";',\n",
    "    'rn1qkbnr/pp1b1ppp/8/1Bpp4/3P4/8/PPPNQPPP/R1B1K1NR b KQkq - bm Qe7; id \"sbd.120\";',\n",
    "    'rn1qr1k1/pb3p2/1p5p/3n2P1/3p4/P4P2/1P1QNBP1/R3KB1R b KQ - bm d3; id \"sbd.121\";',\n",
    "    'rn2kb1r/pp2nppp/1q2p3/3pP3/3P4/5N2/PP2NPPP/R1BQK2R w KQkq - bm O-O; id \"sbd.122\";',\n",
    "    'rn3rk1/1bqp1ppp/p3pn2/8/Nb1NP3/4B3/PP2BPPP/R2Q1RK1 w - - bm Rc1; id \"sbd.123\";',\n",
    "    'rn3rk1/pbp1qppp/1p1ppn2/8/2PP4/P1Q2NP1/1P2PPBP/R1B1K2R w KQ - bm O-O; id \"sbd.124\";',\n",
    "    'rnb1k2r/1pq2ppp/p2ppn2/2b5/3NPP2/2P2B2/PP4PP/RNBQ1R1K b kq - bm O-O; id \"sbd.125\";',\n",
    "    'rnb2rk1/ppq1ppbp/6p1/2p5/3PP3/2P2N2/P3BPPP/1RBQK2R w K - bm O-O; id \"sbd.126\";',\n",
    "    'rnbq1rk1/5ppp/p3pn2/1p6/2BP4/P1P2N2/5PPP/R1BQ1RK1 w - - bm Bd3; id \"sbd.127\";',\n",
    "    'rnbq1rk1/pp2ppbp/2pp1np1/8/P2PP3/2N2N2/1PP1BPPP/R1BQK2R w KQ - bm O-O; id \"sbd.128\";',\n",
    "    'rnbq1rk1/ppp1ppbp/6p1/8/8/2P2NP1/P2PPPBP/R1BQK2R w KQ - bm O-O; id \"sbd.129\";',\n",
    "    'rnbqk1nr/pp3pbp/2ppp1p1/8/2BPP3/2N2Q2/PPP2PPP/R1B1K1NR w KQkq - bm Nge2; id \"sbd.130\";',\n",
    "    'rnbqk2r/ppp2ppp/1b1p1n2/4p3/2B1P3/2PP1N2/PP1N1PPP/R1BQK2R b KQkq - bm O-O; id \"sbd.131\";',\n",
    "    'rnbqk2r/pppp2pp/4pn2/5p2/1b1P4/2P2NP1/PP2PPBP/RNBQK2R b KQkq - bm Be7; id \"sbd.132\";',\n",
    "    'rnbqr1k1/pp1p1ppp/5n2/3Pb3/1P6/P1N3P1/4NPBP/R1BQK2R w KQ - bm O-O; id \"sbd.133\";',\n",
    "    'nq1nrk1/pp3pbp/6p1/3p4/3P4/5N2/PP2BPPP/R1BQK2R w KQ - bm O-O; id \"sbd.134\";',]\n",
    "\n",
    "SBD_sols = [\"Qc7\", \"Rc7\", \"O-O\", \"Rd8\", \"g3\", \"Bf7\", \"O-O\", \"Rce1\",]\n",
    "#board = chess.Board()\n",
    "#board.set_epd(test_epd)\n",
    "#print(board)"
   ]
  },
  {
   "cell_type": "code",
   "execution_count": 41,
   "metadata": {},
   "outputs": [
    {
     "data": {
      "text/html": [
       "<pre>✔️ 5.75 s (2021-05-03T14:18:00/2021-05-03T14:18:06)</pre>"
      ],
      "text/plain": [
       "<IPython.core.display.HTML object>"
      ]
     },
     "metadata": {},
     "output_type": "display_data"
    },
    {
     "name": "stdout",
     "output_type": "stream",
     "text": [
      "g3\n",
      "Bg3\n"
     ]
    },
    {
     "data": {
      "image/svg+xml": [
       "<svg xmlns=\"http://www.w3.org/2000/svg\" xmlns:xlink=\"http://www.w3.org/1999/xlink\" version=\"1.1\" viewBox=\"0 0 400 400\" width=\"400\" height=\"400\"><defs><g id=\"white-pawn\" class=\"white pawn\"><path d=\"M22 9c-2.21 0-4 1.79-4 4 0 .89.29 1.71.78 2.38-1.95 1.12-3.28 3.21-3.28 5.62 0 2.03.94 3.84 2.41 5.03-3 1.06-7.41 5.55-7.41 13.47h23c0-7.92-4.41-12.41-7.41-13.47 1.47-1.19 2.41-3 2.41-5.03 0-2.41-1.33-4.5-3.28-5.62.49-.67.78-1.49.78-2.38 0-2.21-1.79-4-4-4z\" fill=\"#fff\" stroke=\"#000\" stroke-width=\"1.5\" stroke-linecap=\"round\"/></g><g id=\"white-knight\" class=\"white knight\" fill=\"none\" fill-rule=\"evenodd\" stroke=\"#000\" stroke-width=\"1.5\" stroke-linecap=\"round\" stroke-linejoin=\"round\"><path d=\"M 22,10 C 32.5,11 38.5,18 38,39 L 15,39 C 15,30 25,32.5 23,18\" style=\"fill:#ffffff; stroke:#000000;\"/><path d=\"M 24,18 C 24.38,20.91 18.45,25.37 16,27 C 13,29 13.18,31.34 11,31 C 9.958,30.06 12.41,27.96 11,28 C 10,28 11.19,29.23 10,30 C 9,30 5.997,31 6,26 C 6,24 12,14 12,14 C 12,14 13.89,12.1 14,10.5 C 13.27,9.506 13.5,8.5 13.5,7.5 C 14.5,6.5 16.5,10 16.5,10 L 18.5,10 C 18.5,10 19.28,8.008 21,7 C 22,7 22,10 22,10\" style=\"fill:#ffffff; stroke:#000000;\"/><path d=\"M 9.5 25.5 A 0.5 0.5 0 1 1 8.5,25.5 A 0.5 0.5 0 1 1 9.5 25.5 z\" style=\"fill:#000000; stroke:#000000;\"/><path d=\"M 15 15.5 A 0.5 1.5 0 1 1 14,15.5 A 0.5 1.5 0 1 1 15 15.5 z\" transform=\"matrix(0.866,0.5,-0.5,0.866,9.693,-5.173)\" style=\"fill:#000000; stroke:#000000;\"/></g><g id=\"white-bishop\" class=\"white bishop\" fill=\"none\" fill-rule=\"evenodd\" stroke=\"#000\" stroke-width=\"1.5\" stroke-linecap=\"round\" stroke-linejoin=\"round\"><g fill=\"#fff\" stroke-linecap=\"butt\"><path d=\"M9 36c3.39-.97 10.11.43 13.5-2 3.39 2.43 10.11 1.03 13.5 2 0 0 1.65.54 3 2-.68.97-1.65.99-3 .5-3.39-.97-10.11.46-13.5-1-3.39 1.46-10.11.03-13.5 1-1.354.49-2.323.47-3-.5 1.354-1.94 3-2 3-2zM15 32c2.5 2.5 12.5 2.5 15 0 .5-1.5 0-2 0-2 0-2.5-2.5-4-2.5-4 5.5-1.5 6-11.5-5-15.5-11 4-10.5 14-5 15.5 0 0-2.5 1.5-2.5 4 0 0-.5.5 0 2zM25 8a2.5 2.5 0 1 1-5 0 2.5 2.5 0 1 1 5 0z\"/></g><path d=\"M17.5 26h10M15 30h15m-7.5-14.5v5M20 18h5\" stroke-linejoin=\"miter\"/></g><g id=\"white-rook\" class=\"white rook\" fill=\"#fff\" fill-rule=\"evenodd\" stroke=\"#000\" stroke-width=\"1.5\" stroke-linecap=\"round\" stroke-linejoin=\"round\"><path d=\"M9 39h27v-3H9v3zM12 36v-4h21v4H12zM11 14V9h4v2h5V9h5v2h5V9h4v5\" stroke-linecap=\"butt\"/><path d=\"M34 14l-3 3H14l-3-3\"/><path d=\"M31 17v12.5H14V17\" stroke-linecap=\"butt\" stroke-linejoin=\"miter\"/><path d=\"M31 29.5l1.5 2.5h-20l1.5-2.5\"/><path d=\"M11 14h23\" fill=\"none\" stroke-linejoin=\"miter\"/></g><g id=\"white-queen\" class=\"white queen\" fill=\"#fff\" fill-rule=\"evenodd\" stroke=\"#000\" stroke-width=\"1.5\" stroke-linecap=\"round\" stroke-linejoin=\"round\"><path d=\"M8 12a2 2 0 1 1-4 0 2 2 0 1 1 4 0zM24.5 7.5a2 2 0 1 1-4 0 2 2 0 1 1 4 0zM41 12a2 2 0 1 1-4 0 2 2 0 1 1 4 0zM16 8.5a2 2 0 1 1-4 0 2 2 0 1 1 4 0zM33 9a2 2 0 1 1-4 0 2 2 0 1 1 4 0z\"/><path d=\"M9 26c8.5-1.5 21-1.5 27 0l2-12-7 11V11l-5.5 13.5-3-15-3 15-5.5-14V25L7 14l2 12zM9 26c0 2 1.5 2 2.5 4 1 1.5 1 1 .5 3.5-1.5 1-1.5 2.5-1.5 2.5-1.5 1.5.5 2.5.5 2.5 6.5 1 16.5 1 23 0 0 0 1.5-1 0-2.5 0 0 .5-1.5-1-2.5-.5-2.5-.5-2 .5-3.5 1-2 2.5-2 2.5-4-8.5-1.5-18.5-1.5-27 0z\" stroke-linecap=\"butt\"/><path d=\"M11.5 30c3.5-1 18.5-1 22 0M12 33.5c6-1 15-1 21 0\" fill=\"none\"/></g><g id=\"white-king\" class=\"white king\" fill=\"none\" fill-rule=\"evenodd\" stroke=\"#000\" stroke-width=\"1.5\" stroke-linecap=\"round\" stroke-linejoin=\"round\"><path d=\"M22.5 11.63V6M20 8h5\" stroke-linejoin=\"miter\"/><path d=\"M22.5 25s4.5-7.5 3-10.5c0 0-1-2.5-3-2.5s-3 2.5-3 2.5c-1.5 3 3 10.5 3 10.5\" fill=\"#fff\" stroke-linecap=\"butt\" stroke-linejoin=\"miter\"/><path d=\"M11.5 37c5.5 3.5 15.5 3.5 21 0v-7s9-4.5 6-10.5c-4-6.5-13.5-3.5-16 4V27v-3.5c-3.5-7.5-13-10.5-16-4-3 6 5 10 5 10V37z\" fill=\"#fff\"/><path d=\"M11.5 30c5.5-3 15.5-3 21 0m-21 3.5c5.5-3 15.5-3 21 0m-21 3.5c5.5-3 15.5-3 21 0\"/></g><g id=\"black-pawn\" class=\"black pawn\"><path d=\"M22 9c-2.21 0-4 1.79-4 4 0 .89.29 1.71.78 2.38-1.95 1.12-3.28 3.21-3.28 5.62 0 2.03.94 3.84 2.41 5.03-3 1.06-7.41 5.55-7.41 13.47h23c0-7.92-4.41-12.41-7.41-13.47 1.47-1.19 2.41-3 2.41-5.03 0-2.41-1.33-4.5-3.28-5.62.49-.67.78-1.49.78-2.38 0-2.21-1.79-4-4-4z\" stroke=\"#000\" stroke-width=\"1.5\" stroke-linecap=\"round\"/></g><g id=\"black-knight\" class=\"black knight\" fill=\"none\" fill-rule=\"evenodd\" stroke=\"#000\" stroke-width=\"1.5\" stroke-linecap=\"round\" stroke-linejoin=\"round\"><path d=\"M 22,10 C 32.5,11 38.5,18 38,39 L 15,39 C 15,30 25,32.5 23,18\" style=\"fill:#000000; stroke:#000000;\"/><path d=\"M 24,18 C 24.38,20.91 18.45,25.37 16,27 C 13,29 13.18,31.34 11,31 C 9.958,30.06 12.41,27.96 11,28 C 10,28 11.19,29.23 10,30 C 9,30 5.997,31 6,26 C 6,24 12,14 12,14 C 12,14 13.89,12.1 14,10.5 C 13.27,9.506 13.5,8.5 13.5,7.5 C 14.5,6.5 16.5,10 16.5,10 L 18.5,10 C 18.5,10 19.28,8.008 21,7 C 22,7 22,10 22,10\" style=\"fill:#000000; stroke:#000000;\"/><path d=\"M 9.5 25.5 A 0.5 0.5 0 1 1 8.5,25.5 A 0.5 0.5 0 1 1 9.5 25.5 z\" style=\"fill:#ececec; stroke:#ececec;\"/><path d=\"M 15 15.5 A 0.5 1.5 0 1 1 14,15.5 A 0.5 1.5 0 1 1 15 15.5 z\" transform=\"matrix(0.866,0.5,-0.5,0.866,9.693,-5.173)\" style=\"fill:#ececec; stroke:#ececec;\"/><path d=\"M 24.55,10.4 L 24.1,11.85 L 24.6,12 C 27.75,13 30.25,14.49 32.5,18.75 C 34.75,23.01 35.75,29.06 35.25,39 L 35.2,39.5 L 37.45,39.5 L 37.5,39 C 38,28.94 36.62,22.15 34.25,17.66 C 31.88,13.17 28.46,11.02 25.06,10.5 L 24.55,10.4 z \" style=\"fill:#ececec; stroke:none;\"/></g><g id=\"black-bishop\" class=\"black bishop\" fill=\"none\" fill-rule=\"evenodd\" stroke=\"#000\" stroke-width=\"1.5\" stroke-linecap=\"round\" stroke-linejoin=\"round\"><path d=\"M9 36c3.39-.97 10.11.43 13.5-2 3.39 2.43 10.11 1.03 13.5 2 0 0 1.65.54 3 2-.68.97-1.65.99-3 .5-3.39-.97-10.11.46-13.5-1-3.39 1.46-10.11.03-13.5 1-1.354.49-2.323.47-3-.5 1.354-1.94 3-2 3-2zm6-4c2.5 2.5 12.5 2.5 15 0 .5-1.5 0-2 0-2 0-2.5-2.5-4-2.5-4 5.5-1.5 6-11.5-5-15.5-11 4-10.5 14-5 15.5 0 0-2.5 1.5-2.5 4 0 0-.5.5 0 2zM25 8a2.5 2.5 0 1 1-5 0 2.5 2.5 0 1 1 5 0z\" fill=\"#000\" stroke-linecap=\"butt\"/><path d=\"M17.5 26h10M15 30h15m-7.5-14.5v5M20 18h5\" stroke=\"#fff\" stroke-linejoin=\"miter\"/></g><g id=\"black-rook\" class=\"black rook\" fill=\"#000\" fill-rule=\"evenodd\" stroke=\"#000\" stroke-width=\"1.5\" stroke-linecap=\"round\" stroke-linejoin=\"round\"><path d=\"M9 39h27v-3H9v3zM12.5 32l1.5-2.5h17l1.5 2.5h-20zM12 36v-4h21v4H12z\" stroke-linecap=\"butt\"/><path d=\"M14 29.5v-13h17v13H14z\" stroke-linecap=\"butt\" stroke-linejoin=\"miter\"/><path d=\"M14 16.5L11 14h23l-3 2.5H14zM11 14V9h4v2h5V9h5v2h5V9h4v5H11z\" stroke-linecap=\"butt\"/><path d=\"M12 35.5h21M13 31.5h19M14 29.5h17M14 16.5h17M11 14h23\" fill=\"none\" stroke=\"#fff\" stroke-width=\"1\" stroke-linejoin=\"miter\"/></g><g id=\"black-queen\" class=\"black queen\" fill=\"#000\" fill-rule=\"evenodd\" stroke=\"#000\" stroke-width=\"1.5\" stroke-linecap=\"round\" stroke-linejoin=\"round\"><g fill=\"#000\" stroke=\"none\"><circle cx=\"6\" cy=\"12\" r=\"2.75\"/><circle cx=\"14\" cy=\"9\" r=\"2.75\"/><circle cx=\"22.5\" cy=\"8\" r=\"2.75\"/><circle cx=\"31\" cy=\"9\" r=\"2.75\"/><circle cx=\"39\" cy=\"12\" r=\"2.75\"/></g><path d=\"M9 26c8.5-1.5 21-1.5 27 0l2.5-12.5L31 25l-.3-14.1-5.2 13.6-3-14.5-3 14.5-5.2-13.6L14 25 6.5 13.5 9 26zM9 26c0 2 1.5 2 2.5 4 1 1.5 1 1 .5 3.5-1.5 1-1.5 2.5-1.5 2.5-1.5 1.5.5 2.5.5 2.5 6.5 1 16.5 1 23 0 0 0 1.5-1 0-2.5 0 0 .5-1.5-1-2.5-.5-2.5-.5-2 .5-3.5 1-2 2.5-2 2.5-4-8.5-1.5-18.5-1.5-27 0z\" stroke-linecap=\"butt\"/><path d=\"M11 38.5a35 35 1 0 0 23 0\" fill=\"none\" stroke-linecap=\"butt\"/><path d=\"M11 29a35 35 1 0 1 23 0M12.5 31.5h20M11.5 34.5a35 35 1 0 0 22 0M10.5 37.5a35 35 1 0 0 24 0\" fill=\"none\" stroke=\"#fff\"/></g><g id=\"black-king\" class=\"black king\" fill=\"none\" fill-rule=\"evenodd\" stroke=\"#000\" stroke-width=\"1.5\" stroke-linecap=\"round\" stroke-linejoin=\"round\"><path d=\"M22.5 11.63V6\" stroke-linejoin=\"miter\"/><path d=\"M22.5 25s4.5-7.5 3-10.5c0 0-1-2.5-3-2.5s-3 2.5-3 2.5c-1.5 3 3 10.5 3 10.5\" fill=\"#000\" stroke-linecap=\"butt\" stroke-linejoin=\"miter\"/><path d=\"M11.5 37c5.5 3.5 15.5 3.5 21 0v-7s9-4.5 6-10.5c-4-6.5-13.5-3.5-16 4V27v-3.5c-3.5-7.5-13-10.5-16-4-3 6 5 10 5 10V37z\" fill=\"#000\"/><path d=\"M20 8h5\" stroke-linejoin=\"miter\"/><path d=\"M32 29.5s8.5-4 6.03-9.65C34.15 14 25 18 22.5 24.5l.01 2.1-.01-2.1C20 18 9.906 14 6.997 19.85c-2.497 5.65 4.853 9 4.853 9M11.5 30c5.5-3 15.5-3 21 0m-21 3.5c5.5-3 15.5-3 21 0m-21 3.5c5.5-3 15.5-3 21 0\" stroke=\"#fff\"/></g></defs><rect x=\"20\" y=\"335\" width=\"45\" height=\"45\" class=\"square dark a1\" stroke=\"none\" fill=\"#d18b47\"/><rect x=\"65\" y=\"335\" width=\"45\" height=\"45\" class=\"square light b1\" stroke=\"none\" fill=\"#ffce9e\"/><use xlink:href=\"#white-rook\" transform=\"translate(65, 335)\"/><rect x=\"110\" y=\"335\" width=\"45\" height=\"45\" class=\"square dark c1\" stroke=\"none\" fill=\"#d18b47\"/><rect x=\"155\" y=\"335\" width=\"45\" height=\"45\" class=\"square light d1\" stroke=\"none\" fill=\"#ffce9e\"/><use xlink:href=\"#white-rook\" transform=\"translate(155, 335)\"/><rect x=\"200\" y=\"335\" width=\"45\" height=\"45\" class=\"square dark e1\" stroke=\"none\" fill=\"#d18b47\"/><rect x=\"245\" y=\"335\" width=\"45\" height=\"45\" class=\"square light f1\" stroke=\"none\" fill=\"#ffce9e\"/><use xlink:href=\"#white-bishop\" transform=\"translate(245, 335)\"/><rect x=\"290\" y=\"335\" width=\"45\" height=\"45\" class=\"square dark g1\" stroke=\"none\" fill=\"#d18b47\"/><use xlink:href=\"#white-king\" transform=\"translate(290, 335)\"/><rect x=\"335\" y=\"335\" width=\"45\" height=\"45\" class=\"square light h1\" stroke=\"none\" fill=\"#ffce9e\"/><rect x=\"20\" y=\"290\" width=\"45\" height=\"45\" class=\"square light a2\" stroke=\"none\" fill=\"#ffce9e\"/><use xlink:href=\"#white-pawn\" transform=\"translate(20, 290)\"/><rect x=\"65\" y=\"290\" width=\"45\" height=\"45\" class=\"square dark b2\" stroke=\"none\" fill=\"#d18b47\"/><rect x=\"110\" y=\"290\" width=\"45\" height=\"45\" class=\"square light c2\" stroke=\"none\" fill=\"#ffce9e\"/><use xlink:href=\"#white-queen\" transform=\"translate(110, 290)\"/><rect x=\"155\" y=\"290\" width=\"45\" height=\"45\" class=\"square dark d2\" stroke=\"none\" fill=\"#d18b47\"/><rect x=\"200\" y=\"290\" width=\"45\" height=\"45\" class=\"square light e2\" stroke=\"none\" fill=\"#ffce9e\"/><rect x=\"245\" y=\"290\" width=\"45\" height=\"45\" class=\"square dark lastmove f2\" stroke=\"none\" fill=\"#aaa23b\"/><rect x=\"290\" y=\"290\" width=\"45\" height=\"45\" class=\"square light g2\" stroke=\"none\" fill=\"#ffce9e\"/><use xlink:href=\"#white-pawn\" transform=\"translate(290, 290)\"/><rect x=\"335\" y=\"290\" width=\"45\" height=\"45\" class=\"square dark h2\" stroke=\"none\" fill=\"#d18b47\"/><use xlink:href=\"#white-pawn\" transform=\"translate(335, 290)\"/><rect x=\"20\" y=\"245\" width=\"45\" height=\"45\" class=\"square dark a3\" stroke=\"none\" fill=\"#d18b47\"/><rect x=\"65\" y=\"245\" width=\"45\" height=\"45\" class=\"square light b3\" stroke=\"none\" fill=\"#ffce9e\"/><rect x=\"110\" y=\"245\" width=\"45\" height=\"45\" class=\"square dark c3\" stroke=\"none\" fill=\"#d18b47\"/><use xlink:href=\"#white-pawn\" transform=\"translate(110, 245)\"/><rect x=\"155\" y=\"245\" width=\"45\" height=\"45\" class=\"square light d3\" stroke=\"none\" fill=\"#ffce9e\"/><rect x=\"200\" y=\"245\" width=\"45\" height=\"45\" class=\"square dark e3\" stroke=\"none\" fill=\"#d18b47\"/><rect x=\"245\" y=\"245\" width=\"45\" height=\"45\" class=\"square light f3\" stroke=\"none\" fill=\"#ffce9e\"/><use xlink:href=\"#white-pawn\" transform=\"translate(245, 245)\"/><rect x=\"290\" y=\"245\" width=\"45\" height=\"45\" class=\"square dark lastmove g3\" stroke=\"none\" fill=\"#aaa23b\"/><use xlink:href=\"#white-bishop\" transform=\"translate(290, 245)\"/><rect x=\"335\" y=\"245\" width=\"45\" height=\"45\" class=\"square light h3\" stroke=\"none\" fill=\"#ffce9e\"/><rect x=\"20\" y=\"200\" width=\"45\" height=\"45\" class=\"square light a4\" stroke=\"none\" fill=\"#ffce9e\"/><rect x=\"65\" y=\"200\" width=\"45\" height=\"45\" class=\"square dark b4\" stroke=\"none\" fill=\"#d18b47\"/><rect x=\"110\" y=\"200\" width=\"45\" height=\"45\" class=\"square light c4\" stroke=\"none\" fill=\"#ffce9e\"/><rect x=\"155\" y=\"200\" width=\"45\" height=\"45\" class=\"square dark d4\" stroke=\"none\" fill=\"#d18b47\"/><use xlink:href=\"#white-knight\" transform=\"translate(155, 200)\"/><rect x=\"200\" y=\"200\" width=\"45\" height=\"45\" class=\"square light e4\" stroke=\"none\" fill=\"#ffce9e\"/><use xlink:href=\"#white-pawn\" transform=\"translate(200, 200)\"/><rect x=\"245\" y=\"200\" width=\"45\" height=\"45\" class=\"square dark f4\" stroke=\"none\" fill=\"#d18b47\"/><rect x=\"290\" y=\"200\" width=\"45\" height=\"45\" class=\"square light g4\" stroke=\"none\" fill=\"#ffce9e\"/><rect x=\"335\" y=\"200\" width=\"45\" height=\"45\" class=\"square dark h4\" stroke=\"none\" fill=\"#d18b47\"/><rect x=\"20\" y=\"155\" width=\"45\" height=\"45\" class=\"square dark a5\" stroke=\"none\" fill=\"#d18b47\"/><rect x=\"65\" y=\"155\" width=\"45\" height=\"45\" class=\"square light b5\" stroke=\"none\" fill=\"#ffce9e\"/><rect x=\"110\" y=\"155\" width=\"45\" height=\"45\" class=\"square dark c5\" stroke=\"none\" fill=\"#d18b47\"/><rect x=\"155\" y=\"155\" width=\"45\" height=\"45\" class=\"square light d5\" stroke=\"none\" fill=\"#ffce9e\"/><rect x=\"200\" y=\"155\" width=\"45\" height=\"45\" class=\"square dark e5\" stroke=\"none\" fill=\"#d18b47\"/><rect x=\"245\" y=\"155\" width=\"45\" height=\"45\" class=\"square light f5\" stroke=\"none\" fill=\"#ffce9e\"/><rect x=\"290\" y=\"155\" width=\"45\" height=\"45\" class=\"square dark g5\" stroke=\"none\" fill=\"#d18b47\"/><rect x=\"335\" y=\"155\" width=\"45\" height=\"45\" class=\"square light h5\" stroke=\"none\" fill=\"#ffce9e\"/><rect x=\"20\" y=\"110\" width=\"45\" height=\"45\" class=\"square light a6\" stroke=\"none\" fill=\"#ffce9e\"/><rect x=\"65\" y=\"110\" width=\"45\" height=\"45\" class=\"square dark b6\" stroke=\"none\" fill=\"#d18b47\"/><rect x=\"110\" y=\"110\" width=\"45\" height=\"45\" class=\"square light c6\" stroke=\"none\" fill=\"#ffce9e\"/><use xlink:href=\"#black-pawn\" transform=\"translate(110, 110)\"/><rect x=\"155\" y=\"110\" width=\"45\" height=\"45\" class=\"square dark d6\" stroke=\"none\" fill=\"#d18b47\"/><use xlink:href=\"#black-bishop\" transform=\"translate(155, 110)\"/><rect x=\"200\" y=\"110\" width=\"45\" height=\"45\" class=\"square light e6\" stroke=\"none\" fill=\"#ffce9e\"/><rect x=\"245\" y=\"110\" width=\"45\" height=\"45\" class=\"square dark f6\" stroke=\"none\" fill=\"#d18b47\"/><use xlink:href=\"#black-knight\" transform=\"translate(245, 110)\"/><rect x=\"290\" y=\"110\" width=\"45\" height=\"45\" class=\"square light g6\" stroke=\"none\" fill=\"#ffce9e\"/><rect x=\"335\" y=\"110\" width=\"45\" height=\"45\" class=\"square dark h6\" stroke=\"none\" fill=\"#d18b47\"/><rect x=\"20\" y=\"65\" width=\"45\" height=\"45\" class=\"square dark a7\" stroke=\"none\" fill=\"#d18b47\"/><use xlink:href=\"#black-pawn\" transform=\"translate(20, 65)\"/><rect x=\"65\" y=\"65\" width=\"45\" height=\"45\" class=\"square light b7\" stroke=\"none\" fill=\"#ffce9e\"/><use xlink:href=\"#black-pawn\" transform=\"translate(65, 65)\"/><rect x=\"110\" y=\"65\" width=\"45\" height=\"45\" class=\"square dark c7\" stroke=\"none\" fill=\"#d18b47\"/><use xlink:href=\"#black-queen\" transform=\"translate(110, 65)\"/><rect x=\"155\" y=\"65\" width=\"45\" height=\"45\" class=\"square light d7\" stroke=\"none\" fill=\"#ffce9e\"/><rect x=\"200\" y=\"65\" width=\"45\" height=\"45\" class=\"square dark e7\" stroke=\"none\" fill=\"#d18b47\"/><rect x=\"245\" y=\"65\" width=\"45\" height=\"45\" class=\"square light f7\" stroke=\"none\" fill=\"#ffce9e\"/><use xlink:href=\"#black-pawn\" transform=\"translate(245, 65)\"/><rect x=\"290\" y=\"65\" width=\"45\" height=\"45\" class=\"square dark g7\" stroke=\"none\" fill=\"#d18b47\"/><use xlink:href=\"#black-pawn\" transform=\"translate(290, 65)\"/><rect x=\"335\" y=\"65\" width=\"45\" height=\"45\" class=\"square light h7\" stroke=\"none\" fill=\"#ffce9e\"/><use xlink:href=\"#black-pawn\" transform=\"translate(335, 65)\"/><rect x=\"20\" y=\"20\" width=\"45\" height=\"45\" class=\"square light a8\" stroke=\"none\" fill=\"#ffce9e\"/><rect x=\"65\" y=\"20\" width=\"45\" height=\"45\" class=\"square dark b8\" stroke=\"none\" fill=\"#d18b47\"/><rect x=\"110\" y=\"20\" width=\"45\" height=\"45\" class=\"square light c8\" stroke=\"none\" fill=\"#ffce9e\"/><use xlink:href=\"#black-bishop\" transform=\"translate(110, 20)\"/><rect x=\"155\" y=\"20\" width=\"45\" height=\"45\" class=\"square dark d8\" stroke=\"none\" fill=\"#d18b47\"/><use xlink:href=\"#black-rook\" transform=\"translate(155, 20)\"/><rect x=\"200\" y=\"20\" width=\"45\" height=\"45\" class=\"square light e8\" stroke=\"none\" fill=\"#ffce9e\"/><use xlink:href=\"#black-rook\" transform=\"translate(200, 20)\"/><rect x=\"245\" y=\"20\" width=\"45\" height=\"45\" class=\"square dark f8\" stroke=\"none\" fill=\"#d18b47\"/><rect x=\"290\" y=\"20\" width=\"45\" height=\"45\" class=\"square light g8\" stroke=\"none\" fill=\"#ffce9e\"/><use xlink:href=\"#black-king\" transform=\"translate(290, 20)\"/><rect x=\"335\" y=\"20\" width=\"45\" height=\"45\" class=\"square dark h8\" stroke=\"none\" fill=\"#d18b47\"/><text x=\"42\" y=\"10\" font-size=\"14\" text-anchor=\"middle\" alignment-baseline=\"middle\">a</text><text x=\"42\" y=\"390\" font-size=\"14\" text-anchor=\"middle\" alignment-baseline=\"middle\">a</text><text x=\"87\" y=\"10\" font-size=\"14\" text-anchor=\"middle\" alignment-baseline=\"middle\">b</text><text x=\"87\" y=\"390\" font-size=\"14\" text-anchor=\"middle\" alignment-baseline=\"middle\">b</text><text x=\"132\" y=\"10\" font-size=\"14\" text-anchor=\"middle\" alignment-baseline=\"middle\">c</text><text x=\"132\" y=\"390\" font-size=\"14\" text-anchor=\"middle\" alignment-baseline=\"middle\">c</text><text x=\"177\" y=\"10\" font-size=\"14\" text-anchor=\"middle\" alignment-baseline=\"middle\">d</text><text x=\"177\" y=\"390\" font-size=\"14\" text-anchor=\"middle\" alignment-baseline=\"middle\">d</text><text x=\"222\" y=\"10\" font-size=\"14\" text-anchor=\"middle\" alignment-baseline=\"middle\">e</text><text x=\"222\" y=\"390\" font-size=\"14\" text-anchor=\"middle\" alignment-baseline=\"middle\">e</text><text x=\"267\" y=\"10\" font-size=\"14\" text-anchor=\"middle\" alignment-baseline=\"middle\">f</text><text x=\"267\" y=\"390\" font-size=\"14\" text-anchor=\"middle\" alignment-baseline=\"middle\">f</text><text x=\"312\" y=\"10\" font-size=\"14\" text-anchor=\"middle\" alignment-baseline=\"middle\">g</text><text x=\"312\" y=\"390\" font-size=\"14\" text-anchor=\"middle\" alignment-baseline=\"middle\">g</text><text x=\"357\" y=\"10\" font-size=\"14\" text-anchor=\"middle\" alignment-baseline=\"middle\">h</text><text x=\"357\" y=\"390\" font-size=\"14\" text-anchor=\"middle\" alignment-baseline=\"middle\">h</text><text x=\"10\" y=\"357\" font-size=\"14\" text-anchor=\"middle\" alignment-baseline=\"middle\">1</text><text x=\"390\" y=\"357\" font-size=\"14\" text-anchor=\"middle\" alignment-baseline=\"middle\">1</text><text x=\"10\" y=\"312\" font-size=\"14\" text-anchor=\"middle\" alignment-baseline=\"middle\">2</text><text x=\"390\" y=\"312\" font-size=\"14\" text-anchor=\"middle\" alignment-baseline=\"middle\">2</text><text x=\"10\" y=\"267\" font-size=\"14\" text-anchor=\"middle\" alignment-baseline=\"middle\">3</text><text x=\"390\" y=\"267\" font-size=\"14\" text-anchor=\"middle\" alignment-baseline=\"middle\">3</text><text x=\"10\" y=\"222\" font-size=\"14\" text-anchor=\"middle\" alignment-baseline=\"middle\">4</text><text x=\"390\" y=\"222\" font-size=\"14\" text-anchor=\"middle\" alignment-baseline=\"middle\">4</text><text x=\"10\" y=\"177\" font-size=\"14\" text-anchor=\"middle\" alignment-baseline=\"middle\">5</text><text x=\"390\" y=\"177\" font-size=\"14\" text-anchor=\"middle\" alignment-baseline=\"middle\">5</text><text x=\"10\" y=\"132\" font-size=\"14\" text-anchor=\"middle\" alignment-baseline=\"middle\">6</text><text x=\"390\" y=\"132\" font-size=\"14\" text-anchor=\"middle\" alignment-baseline=\"middle\">6</text><text x=\"10\" y=\"87\" font-size=\"14\" text-anchor=\"middle\" alignment-baseline=\"middle\">7</text><text x=\"390\" y=\"87\" font-size=\"14\" text-anchor=\"middle\" alignment-baseline=\"middle\">7</text><text x=\"10\" y=\"42\" font-size=\"14\" text-anchor=\"middle\" alignment-baseline=\"middle\">8</text><text x=\"390\" y=\"42\" font-size=\"14\" text-anchor=\"middle\" alignment-baseline=\"middle\">8</text></svg>"
      ],
      "text/plain": [
       "<IPython.core.display.SVG object>"
      ]
     },
     "execution_count": 41,
     "metadata": {},
     "output_type": "execute_result"
    }
   ],
   "source": [
    "n = 4\n",
    "\n",
    "movehistory =[]\n",
    "board = chess.Board()\n",
    "board.set_epd(silentButDeadly[n])\n",
    "boardvalue = init_evaluate_board()\n",
    "\n",
    "mov = selectmove(4)\n",
    "print(SBD_sols[n])\n",
    "print(board.san(mov))\n",
    "\n",
    "make_move(mov)\n",
    "SVG(chess.svg.board(board=board,size=400,lastmove=mov))"
   ]
  },
  {
   "cell_type": "code",
   "execution_count": 48,
   "metadata": {},
   "outputs": [
    {
     "data": {
      "text/html": [
       "<pre>✔️ 30.9 s (2021-05-03T14:25:30/2021-05-03T14:26:01)</pre>"
      ],
      "text/plain": [
       "<IPython.core.display.HTML object>"
      ]
     },
     "metadata": {},
     "output_type": "display_data"
    },
    {
     "name": "stdout",
     "output_type": "stream",
     "text": [
      "Move problem 1 Kh8 / Solution: Qc7\n",
      "wrong\n",
      "Move problem 2 Rc7 / Solution: Rc7\n",
      "OK\n",
      "Move problem 3 Rxd1 / Solution: O-O\n",
      "wrong\n",
      "Move problem 4 Rd7+ / Solution: Rd8\n",
      "wrong\n",
      "Move problem 5 Bg3 / Solution: g3\n",
      "OK\n",
      "Move problem 6 Nf6 / Solution: Bf7\n",
      "wrong\n",
      "Move problem 7 Rg8 / Solution: O-O\n",
      "wrong\n",
      "Move problem 8 Rxe8+ / Solution: Rce1\n",
      "wrong\n",
      "Number of correct solved: 2\n"
     ]
    }
   ],
   "source": [
    "depth = 4\n",
    "solved = 0\n",
    "for i, pos in enumerate(silentButDeadly[:8]):\n",
    "    movehistory =[]\n",
    "    board = chess.Board()\n",
    "    board.set_epd(pos)\n",
    "    boardvalue = init_evaluate_board()\n",
    "\n",
    "    mov = selectmove(depth)\n",
    "    print(\"Move problem \" + str(i+1) + \" \" + board.san(mov) + \" / Solution: \" + SBD_sols[i])\n",
    "\n",
    "    if str(board.san(mov)) in str(SBD_sols[i]) or str(SBD_sols[i]) in str(board.san(mov)):\n",
    "        solved = solved + 1\n",
    "        print(\"OK\")\n",
    "    else:\n",
    "        print(\"wrong\")\n",
    "\n",
    "print(\"Number of correct solved: \" + str(solved))"
   ]
  }
 ],
 "metadata": {
  "kernelspec": {
   "display_name": "Python 3",
   "language": "python",
   "name": "python3"
  },
  "language_info": {
   "codemirror_mode": {
    "name": "ipython",
    "version": 3
   },
   "file_extension": ".py",
   "mimetype": "text/x-python",
   "name": "python",
   "nbconvert_exporter": "python",
   "pygments_lexer": "ipython3",
   "version": "3.8.7"
  }
 },
 "nbformat": 4,
 "nbformat_minor": 2
}
